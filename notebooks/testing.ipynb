{
 "cells": [
  {
   "cell_type": "code",
   "execution_count": 1,
   "metadata": {},
   "outputs": [],
   "source": [
    "import lbcred, os\n",
    "from lbcred import image, interactive, tools, reduce"
   ]
  },
  {
   "cell_type": "code",
   "execution_count": 10,
   "metadata": {},
   "outputs": [
    {
     "data": {
      "text/html": [
       "<i>Table length=52</i>\n",
       "<table id=\"table47842214096\" class=\"table-striped table-bordered table-condensed\">\n",
       "<thead><tr><th>filename</th><th>imagetyp</th><th>object</th><th>propid</th><th>filter</th><th>instrument</th></tr></thead>\n",
       "<thead><tr><th>str31</th><th>str6</th><th>str9</th><th>str13</th><th>str8</th><th>str8</th></tr></thead>\n",
       "<tr><td>lbcr.20191221.134032-chip2.fits</td><td>flat</td><td>SkyFlat</td><td>flatcalib</td><td>R-BESSEL</td><td>LBC-RED</td></tr>\n",
       "<tr><td>lbcr.20191221.034630-chip2.fits</td><td>object</td><td>NGC628LSB</td><td>OSU_dwarfsimg</td><td>R-BESSEL</td><td>LBC-RED</td></tr>\n",
       "<tr><td>lbcb.20191220.004744-chip2.fits</td><td>flat</td><td>SkyFlat</td><td>flatcalib</td><td>B-BESSEL</td><td>LBC_BLUE</td></tr>\n",
       "<tr><td>lbcr.20191221.035330-chip2.fits</td><td>object</td><td>NGC628LSB</td><td>OSU_dwarfsimg</td><td>R-BESSEL</td><td>LBC-RED</td></tr>\n",
       "<tr><td>lbcb.20191221.132846-chip2.fits</td><td>flat</td><td>SkyFlat</td><td>flatcalib</td><td>B-BESSEL</td><td>LBC_BLUE</td></tr>\n",
       "<tr><td>lbcr.20191221.133650-chip2.fits</td><td>flat</td><td>SkyFlat</td><td>flatcalib</td><td>R-BESSEL</td><td>LBC-RED</td></tr>\n",
       "<tr><td>lbcb.20191220.004910-chip2.fits</td><td>flat</td><td>SkyFlat</td><td>flatcalib</td><td>B-BESSEL</td><td>LBC_BLUE</td></tr>\n",
       "<tr><td>lbcr.20191220.004741-chip2.fits</td><td>flat</td><td>SkyFlat</td><td>flatcalib</td><td>R-BESSEL</td><td>LBC-RED</td></tr>\n",
       "<tr><td>lbcb.20191221.133234-chip2.fits</td><td>flat</td><td>SkyFlat</td><td>flatcalib</td><td>B-BESSEL</td><td>LBC_BLUE</td></tr>\n",
       "<tr><td>lbcb.20191220.004658-chip2.fits</td><td>flat</td><td>SkyFlat</td><td>flatcalib</td><td>B-BESSEL</td><td>LBC_BLUE</td></tr>\n",
       "<tr><td>...</td><td>...</td><td>...</td><td>...</td><td>...</td><td>...</td></tr>\n",
       "<tr><td>lbcr.20191220.004821-chip2.fits</td><td>flat</td><td>SkyFlat</td><td>flatcalib</td><td>R-BESSEL</td><td>LBC-RED</td></tr>\n",
       "<tr><td>lbcb.20191220.140047-chip2.fits</td><td>zero</td><td>BinoBias</td><td>biascheck</td><td>U-BESSEL</td><td>LBC_BLUE</td></tr>\n",
       "<tr><td>lbcr.20191221.133943-chip2.fits</td><td>flat</td><td>SkyFlat</td><td>flatcalib</td><td>R-BESSEL</td><td>LBC-RED</td></tr>\n",
       "<tr><td>lbcb.20191221.133747-chip2.fits</td><td>flat</td><td>SkyFlat</td><td>flatcalib</td><td>B-BESSEL</td><td>LBC_BLUE</td></tr>\n",
       "<tr><td>lbcb.20191221.132948-chip2.fits</td><td>flat</td><td>SkyFlat</td><td>flatcalib</td><td>B-BESSEL</td><td>LBC_BLUE</td></tr>\n",
       "<tr><td>lbcr.20191221.035210-chip2.fits</td><td>object</td><td>NGC628LSB</td><td>OSU_dwarfsimg</td><td>R-BESSEL</td><td>LBC-RED</td></tr>\n",
       "<tr><td>lbcb.20191220.072050-chip2.fits</td><td>object</td><td>M81blob</td><td>OSU_LBCSBF</td><td>B-BESSEL</td><td>LBC_BLUE</td></tr>\n",
       "<tr><td>lbcr.20191220.003938-chip2.fits</td><td>flat</td><td>SkyFlat</td><td>flatcalib</td><td>F972N20</td><td>LBC-RED</td></tr>\n",
       "<tr><td>lbcb.20191220.003943-chip2.fits</td><td>flat</td><td>SkyFlat</td><td>flatcalib</td><td>SDT_Uspe</td><td>LBC_BLUE</td></tr>\n",
       "<tr><td>lbcb.20191221.134034-chip2.fits</td><td>flat</td><td>SkyFlat</td><td>flatcalib</td><td>B-BESSEL</td><td>LBC_BLUE</td></tr>\n",
       "</table>"
      ],
      "text/plain": [
       "<Table length=52>\n",
       "            filename            imagetyp   object  ...  filter  instrument\n",
       "             str31                str6      str9   ...   str8      str8   \n",
       "------------------------------- -------- --------- ... -------- ----------\n",
       "lbcr.20191221.134032-chip2.fits     flat   SkyFlat ... R-BESSEL    LBC-RED\n",
       "lbcr.20191221.034630-chip2.fits   object NGC628LSB ... R-BESSEL    LBC-RED\n",
       "lbcb.20191220.004744-chip2.fits     flat   SkyFlat ... B-BESSEL   LBC_BLUE\n",
       "lbcr.20191221.035330-chip2.fits   object NGC628LSB ... R-BESSEL    LBC-RED\n",
       "lbcb.20191221.132846-chip2.fits     flat   SkyFlat ... B-BESSEL   LBC_BLUE\n",
       "lbcr.20191221.133650-chip2.fits     flat   SkyFlat ... R-BESSEL    LBC-RED\n",
       "lbcb.20191220.004910-chip2.fits     flat   SkyFlat ... B-BESSEL   LBC_BLUE\n",
       "lbcr.20191220.004741-chip2.fits     flat   SkyFlat ... R-BESSEL    LBC-RED\n",
       "lbcb.20191221.133234-chip2.fits     flat   SkyFlat ... B-BESSEL   LBC_BLUE\n",
       "lbcb.20191220.004658-chip2.fits     flat   SkyFlat ... B-BESSEL   LBC_BLUE\n",
       "                            ...      ...       ... ...      ...        ...\n",
       "lbcr.20191220.004821-chip2.fits     flat   SkyFlat ... R-BESSEL    LBC-RED\n",
       "lbcb.20191220.140047-chip2.fits     zero  BinoBias ... U-BESSEL   LBC_BLUE\n",
       "lbcr.20191221.133943-chip2.fits     flat   SkyFlat ... R-BESSEL    LBC-RED\n",
       "lbcb.20191221.133747-chip2.fits     flat   SkyFlat ... B-BESSEL   LBC_BLUE\n",
       "lbcb.20191221.132948-chip2.fits     flat   SkyFlat ... B-BESSEL   LBC_BLUE\n",
       "lbcr.20191221.035210-chip2.fits   object NGC628LSB ... R-BESSEL    LBC-RED\n",
       "lbcb.20191220.072050-chip2.fits   object   M81blob ... B-BESSEL   LBC_BLUE\n",
       "lbcr.20191220.003938-chip2.fits     flat   SkyFlat ...  F972N20    LBC-RED\n",
       "lbcb.20191220.003943-chip2.fits     flat   SkyFlat ... SDT_Uspe   LBC_BLUE\n",
       "lbcb.20191221.134034-chip2.fits     flat   SkyFlat ... B-BESSEL   LBC_BLUE"
      ]
     },
     "execution_count": 10,
     "metadata": {},
     "output_type": "execute_result"
    }
   ],
   "source": [
    "default_config = os.path.join(lbcred.project_dir, 'lbcreduce-config.yml')\n",
    "initial_config = tools.initialize_config(default_config)\n",
    "config, dir_overwritten = interactive.initialize_directories(initial_config)\n",
    "image_info = image.get_image_info(config)\n",
    "image.check_files(image_info, config)\n",
    "image_info = image.separate_chips(image_info, config)\n",
    "image_info"
   ]
  },
  {
   "cell_type": "code",
   "execution_count": null,
   "metadata": {},
   "outputs": [],
   "source": [
    "tools.plot_overscan()"
   ]
  }
 ],
 "metadata": {
  "kernelspec": {
   "display_name": "Python 3",
   "language": "python",
   "name": "python3"
  },
  "language_info": {
   "codemirror_mode": {
    "name": "ipython",
    "version": 3
   },
   "file_extension": ".py",
   "mimetype": "text/x-python",
   "name": "python",
   "nbconvert_exporter": "python",
   "pygments_lexer": "ipython3",
   "version": "3.7.4"
  }
 },
 "nbformat": 4,
 "nbformat_minor": 2
}
