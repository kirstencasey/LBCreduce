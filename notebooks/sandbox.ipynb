{
 "cells": [
  {
   "cell_type": "code",
   "execution_count": 10,
   "metadata": {},
   "outputs": [],
   "source": [
    "import ccdproc, sys\n",
    "from pathlib import Path\n",
    "from astropy.nddata import CCDData\n",
    "#sys.path.insert(1, '/Users/kirstencasey/projects/LBCreduce/lbcred')\n",
    "#import image, reduce, \n",
    "import time, os\n",
    "from astropy import stats\n",
    "import numpy as np\n",
    "import matplotlib.pyplot as plt"
   ]
  },
  {
   "cell_type": "code",
   "execution_count": 60,
   "metadata": {},
   "outputs": [
    {
     "name": "stdout",
     "output_type": "stream",
     "text": [
      "[[  0 326 324 ... 300 314 624]\n",
      " [  0 323 319 ... 289 303 624]\n",
      " [  0 317 325 ... 286 295 624]\n",
      " ...\n",
      " [  0 273 272 ... 250 248 512]\n",
      " [  0 278 275 ... 258 267 512]\n",
      " [  0 285 276 ... 243 256 496]]\n",
      "[[  0 273 275 ... 251 250 496]\n",
      " [  0 274 279 ... 245 251 496]\n",
      " [  0 260 264 ... 251 247 496]\n",
      " ...\n",
      " [  0 285 272 ... 253 251 512]\n",
      " [  0 277 260 ... 260 264 496]\n",
      " [  0 276 275 ... 252 252 512]]\n",
      "[[  0 271 280 ... 254 252 496]\n",
      " [  0 274 275 ... 251 250 496]\n",
      " [  0 281 276 ... 254 248 512]\n",
      " ...\n",
      " [  0 275 271 ... 249 256 512]\n",
      " [  0 276 276 ... 258 262 512]\n",
      " [  0 290 280 ... 241 249 512]]\n",
      "[[  0 281 271 ... 259 254 496]\n",
      " [  0 272 289 ... 246 265 496]\n",
      " [  0 280 268 ... 251 247 512]\n",
      " ...\n",
      " [  0 274 282 ... 249 252 512]\n",
      " [  0 274 278 ... 260 260 512]\n",
      " [  0 281 274 ... 244 244 496]]\n",
      "[[  0 280 265 ... 258 246 496]\n",
      " [  0 285 279 ... 253 249 496]\n",
      " [  0 276 276 ... 250 260 496]\n",
      " ...\n",
      " [  0 265 274 ... 258 255 496]\n",
      " [  0 278 275 ... 266 266 512]\n",
      " [  0 280 282 ... 244 253 496]]\n",
      "[[  0 269 277 ... 257 258 512]\n",
      " [  0 271 272 ... 252 264 496]\n",
      " [  0 277 283 ... 253 255 512]\n",
      " ...\n",
      " [  0 277 268 ... 255 249 512]\n",
      " [  0 276 282 ... 259 262 512]\n",
      " [  0 280 279 ... 248 247 496]]\n",
      "[[  0 286 285 ... 280 284 768]\n",
      " [  0 292 283 ... 278 275 768]\n",
      " [  0 292 290 ... 282 273 768]\n",
      " ...\n",
      " [  0 289 301 ... 287 281 776]\n",
      " [  0 295 279 ... 286 280 776]\n",
      " [  0 293 283 ... 275 281 776]]\n",
      "[[  0 294 286 ... 284 282 768]\n",
      " [  0 281 280 ... 261 269 768]\n",
      " [  0 287 281 ... 287 279 776]\n",
      " ...\n",
      " [  0 285 279 ... 287 279 776]\n",
      " [  0 288 286 ... 284 290 776]\n",
      " [  0 284 287 ... 273 272 768]]\n",
      "[[  0 281 282 ... 276 277 768]\n",
      " [  0 276 288 ... 274 282 768]\n",
      " [  0 290 275 ... 279 276 768]\n",
      " ...\n",
      " [  0 286 291 ... 280 281 776]\n",
      " [  0 290 282 ... 278 272 776]\n",
      " [  0 291 284 ... 263 271 776]]\n",
      "[[  0 285 298 ... 287 285 776]\n",
      " [  0 296 280 ... 279 283 768]\n",
      " [  0 288 288 ... 285 279 776]\n",
      " ...\n",
      " [  0 297 279 ... 275 280 776]\n",
      " [  0 285 290 ... 281 288 776]\n",
      " [  0 295 281 ... 279 277 776]]\n",
      "[[  0 295 278 ... 285 278 768]\n",
      " [  0 279 281 ... 273 276 768]\n",
      " [  0 284 289 ... 269 279 768]\n",
      " ...\n",
      " [  0 290 283 ... 289 278 776]\n",
      " [  0 296 291 ... 282 271 776]\n",
      " [  0 289 281 ... 274 280 776]]\n",
      "[[  0 277 277 ... 279 281 776]\n",
      " [  0 281 280 ... 286 274 776]\n",
      " [  0 270 277 ... 273 282 768]\n",
      " ...\n",
      " [  0 284 291 ... 285 282 776]\n",
      " [  0 285 287 ... 275 277 776]\n",
      " [  0 286 285 ... 283 279 776]]\n"
     ]
    }
   ],
   "source": [
    "#### Call function to get images\n",
    "lbc_raw = Path('/Volumes/WD-EXFAT/Images/lbc-raw/')\n",
    "#lbc_red = Path('/Volumes/WD-EXFAT/Images/','lbc-reduced')\n",
    "#lbc_red.mkdir(exist_ok=True)\n",
    "keys = ['imagetyp', 'filter', 'propid', 'object', 'pi_name']\n",
    "all_files = ccdproc.ImageFileCollection(lbc_raw,ext=1, keywords=keys,glob_include='*20191220.1*',glob_exclude='*4*')\n",
    "for file in all_files.data():\n",
    "    print(file)"
   ]
  },
  {
   "cell_type": "code",
   "execution_count": 38,
   "metadata": {},
   "outputs": [],
   "source": [
    "#### Call function to calibrate bias images and make master bias\n",
    "keys = ['imagetyp', 'filter', 'propid', 'object']\n",
    "#biases_raw = all_files.files_filtered(include_path=True,select['imagetyp']=select['imagetyp'])\n",
    "# Loop through bias images and calibrate each one (subtract overscan and trim)\n",
    "# Combine all bias images\n",
    "# Return 'master' bias"
   ]
  },
  {
   "cell_type": "code",
   "execution_count": 4,
   "metadata": {},
   "outputs": [],
   "source": [
    "# Call function to do biasing"
   ]
  },
  {
   "cell_type": "code",
   "execution_count": 5,
   "metadata": {},
   "outputs": [],
   "source": [
    "# Call function to do flat fielding"
   ]
  },
  {
   "cell_type": "code",
   "execution_count": 6,
   "metadata": {},
   "outputs": [],
   "source": [
    "# Call function to stack images/do astrometry"
   ]
  },
  {
   "cell_type": "code",
   "execution_count": 6,
   "metadata": {},
   "outputs": [
    {
     "data": {
      "text/plain": [
       "['NGC628KDG10',\n",
       " 'M81blob',\n",
       " 'BinoBias',\n",
       " 'DDO13_UGC01171',\n",
       " 'SkyFlat',\n",
       " 'NGC628LSB',\n",
       " 'faint',\n",
       " 'TYC 1205-1173-1',\n",
       " 'KK17',\n",
       " 'TYC 627-39-1',\n",
       " 'NGC628 smiley',\n",
       " 'DDO043',\n",
       " 'AGC748778',\n",
       " 'TYC 1205-1342-1',\n",
       " 'KK15',\n",
       " 'UGC685']"
      ]
     },
     "execution_count": 6,
     "metadata": {},
     "output_type": "execute_result"
    }
   ],
   "source": [
    "keys = ['imagetyp','object','filter',]\n",
    "collection = ccdproc.ImageFileCollection(lbc_raw, keywords=keys, ext=1)\n",
    "sub_collection = collection.files_filtered(imagetyp='object',filter='B-BESSEL',object='*')\n",
    "collection.values('object',unique=True)"
   ]
  },
  {
   "cell_type": "code",
   "execution_count": 31,
   "metadata": {},
   "outputs": [
    {
     "name": "stdout",
     "output_type": "stream",
     "text": [
      "           file           imagetyp  object  filter \n",
      "------------------------- -------- ------- --------\n",
      "lbcb.20191220.003943.fits     flat SkyFlat SDT_Uspe\n",
      "lbcb.20191220.004029.fits     flat SkyFlat SDT_Uspe\n",
      "lbcb.20191220.004110.fits     flat SkyFlat SDT_Uspe\n",
      "lbcb.20191220.004155.fits     flat SkyFlat SDT_Uspe\n",
      "lbcb.20191220.004237.fits     flat SkyFlat SDT_Uspe\n",
      "lbcb.20191220.004615.fits     flat SkyFlat B-BESSEL\n",
      "lbcb.20191220.004658.fits     flat SkyFlat B-BESSEL\n",
      "lbcb.20191220.004744.fits     flat SkyFlat B-BESSEL\n",
      "lbcb.20191220.004910.fits     flat SkyFlat B-BESSEL\n",
      "lbcb.20191220.005038.fits     flat SkyFlat V-BESSEL\n",
      "                      ...      ...     ...      ...\n",
      "lbcr.20191222.052427.fits   object    KK17 R-BESSEL\n",
      "lbcr.20191222.052542.fits   object    KK17 R-BESSEL\n",
      "lbcr.20191222.053122.fits   object    KK17 R-BESSEL\n",
      "lbcr.20191222.053239.fits   object    KK17 R-BESSEL\n",
      "lbcr.20191222.053819.fits   object    KK17 R-BESSEL\n",
      "lbcr.20191222.053944.fits   object    KK17 R-BESSEL\n",
      "lbcr.20191222.054522.fits   object    KK17 R-BESSEL\n",
      "lbcr.20191222.054641.fits   object    KK17 R-BESSEL\n",
      "lbcr.20191222.055221.fits   object    KK17 R-BESSEL\n",
      "lbcr.20191222.055336.fits   object    KK17 R-BESSEL\n",
      "lbcr.20191222.055915.fits   object    KK17 R-BESSEL\n",
      "Length = 459 rows\n"
     ]
    }
   ],
   "source": [
    "print(collection.summary)"
   ]
  },
  {
   "cell_type": "code",
   "execution_count": 48,
   "metadata": {},
   "outputs": [
    {
     "name": "stdout",
     "output_type": "stream",
     "text": [
      "Options\n",
      "-------\n",
      "\n",
      "imtype: ['object']\n",
      "\n",
      "objectname: ['UGC685']\n",
      "\n",
      "filt: ['B-BESSEL', 'R-BESSEL']\n"
     ]
    }
   ],
   "source": [
    "imtype='*'\n",
    "objectname='UGC685'\n",
    "filt='*'\n",
    "\n",
    "images = collection.filter(imagetyp=imtype, object=objectname, filter=filt)\n",
    "options = {}\n",
    "options['imtype'] = images.values('imagetyp', unique=True)\n",
    "options['objectname'] = images.values('object', unique=True)\n",
    "options['filt'] = images.values('filter', unique=True)\n",
    "print('Options','-------',sep='\\n')\n",
    "print('\\n','imtype: ', options['imtype'],sep='')\n",
    "print('\\n','objectname: ', options['objectname'], sep='')\n",
    "print('\\n', 'filt: ', options['filt'], sep='')"
   ]
  },
  {
   "cell_type": "code",
   "execution_count": 7,
   "metadata": {},
   "outputs": [],
   "source": [
    "images = image.get_images('/Volumes/WD-EXFAT/Images/lbc-raw/', objectname='KK17', filt='R-BESSEL');"
   ]
  },
  {
   "cell_type": "code",
   "execution_count": 25,
   "metadata": {},
   "outputs": [
    {
     "data": {
      "text/plain": [
       "16"
      ]
     },
     "execution_count": 25,
     "metadata": {},
     "output_type": "execute_result"
    }
   ],
   "source": [
    "len(images.summary)"
   ]
  },
  {
   "cell_type": "code",
   "execution_count": 47,
   "metadata": {},
   "outputs": [
    {
     "ename": "AttributeError",
     "evalue": "'numpy.ndarray' object has no attribute 'stddev'",
     "output_type": "error",
     "traceback": [
      "\u001b[0;31m---------------------------------------------------------------------------\u001b[0m",
      "\u001b[0;31mAttributeError\u001b[0m                            Traceback (most recent call last)",
      "\u001b[0;32m<ipython-input-47-21d1f4278a98>\u001b[0m in \u001b[0;36m<module>\u001b[0;34m\u001b[0m\n\u001b[1;32m      3\u001b[0m     \u001b[0mmean\u001b[0m \u001b[0;34m=\u001b[0m \u001b[0mstats\u001b[0m\u001b[0;34m.\u001b[0m\u001b[0msigma_clip\u001b[0m\u001b[0;34m(\u001b[0m\u001b[0mim\u001b[0m\u001b[0;34m,\u001b[0m \u001b[0msigma\u001b[0m\u001b[0;34m=\u001b[0m\u001b[0;36m3\u001b[0m\u001b[0;34m,\u001b[0m \u001b[0mmaxiters\u001b[0m\u001b[0;34m=\u001b[0m\u001b[0;36m3\u001b[0m\u001b[0;34m)\u001b[0m\u001b[0;34m.\u001b[0m\u001b[0mmean\u001b[0m\u001b[0;34m(\u001b[0m\u001b[0;34m)\u001b[0m\u001b[0;34m\u001b[0m\u001b[0;34m\u001b[0m\u001b[0m\n\u001b[1;32m      4\u001b[0m     \u001b[0mmeans1\u001b[0m\u001b[0;34m.\u001b[0m\u001b[0mappend\u001b[0m\u001b[0;34m(\u001b[0m\u001b[0mmean\u001b[0m\u001b[0;34m)\u001b[0m\u001b[0;34m\u001b[0m\u001b[0;34m\u001b[0m\u001b[0m\n\u001b[0;32m----> 5\u001b[0;31m     \u001b[0mprint\u001b[0m\u001b[0;34m(\u001b[0m\u001b[0mim\u001b[0m\u001b[0;34m.\u001b[0m\u001b[0mstddev\u001b[0m\u001b[0;34m)\u001b[0m\u001b[0;34m\u001b[0m\u001b[0;34m\u001b[0m\u001b[0m\n\u001b[0m",
      "\u001b[0;31mAttributeError\u001b[0m: 'numpy.ndarray' object has no attribute 'stddev'"
     ]
    }
   ],
   "source": [
    "means1 = []\n",
    "for im in images.data():\n",
    "    mean = stats.sigma_clip(im, sigma=3, maxiters=3).mean()\n",
    "    means1.append(mean)\n",
    "    print(im.stddev)"
   ]
  },
  {
   "cell_type": "code",
   "execution_count": 45,
   "metadata": {},
   "outputs": [],
   "source": [
    "means2 = []\n",
    "for im in images.data():\n",
    "    mean = im.mean()\n",
    "    means2.append(mean)"
   ]
  },
  {
   "cell_type": "code",
   "execution_count": 46,
   "metadata": {},
   "outputs": [
    {
     "data": {
      "text/plain": [
       "array([1168.52664821,  120.7718156 , 1150.65100414,   96.80109063,\n",
       "       1166.52538484,  112.80384252, 1188.94975444,  125.10706768,\n",
       "       1272.26788388,  126.78458644, 1234.15903583,  124.62784779,\n",
       "       1253.6869325 ,  117.28858983, 1159.0992192 ,  111.17959801])"
      ]
     },
     "execution_count": 46,
     "metadata": {},
     "output_type": "execute_result"
    }
   ],
   "source": [
    "np.asarray(means1)-np.asarray(means2)"
   ]
  },
  {
   "cell_type": "code",
   "execution_count": 19,
   "metadata": {},
   "outputs": [],
   "source": [
    "i=0\n",
    "for im in images.data():\n",
    "    if i==0:\n",
    "        clipped = stats.sigma_clip(im,sigma=5, cenfunc='median', stdfunc=stats.mad_std)\n",
    "        im0 = im\n",
    "    i+=1"
   ]
  },
  {
   "cell_type": "code",
   "execution_count": 24,
   "metadata": {},
   "outputs": [
    {
     "data": {
      "text/plain": [
       "278.13776542352724"
      ]
     },
     "execution_count": 24,
     "metadata": {},
     "output_type": "execute_result"
    }
   ],
   "source": [
    "clipped.std()"
   ]
  },
  {
   "cell_type": "code",
   "execution_count": 38,
   "metadata": {},
   "outputs": [
    {
     "data": {
      "image/png": "[encoded data removed]",
      "text/plain": [
       "<Figure size 432x288 with 1 Axes>"
      ]
     },
     "metadata": {
      "needs_background": "light"
     },
     "output_type": "display_data"
    }
   ],
   "source": [
    "clipped_nonan = clipped[~np.isnan(clipped)]\n",
    "plt.hist(np.ndarray.flatten(im0),density=True,bins=1000,alpha=0.5,label='no clipping')\n",
    "plt.hist(np.ndarray.flatten(clipped_nonan),density=True,bins=100,alpha=0.5,label='with clipping')\n",
    "plt.xlim(9900,13000)\n",
    "plt.legend()\n",
    "plt.show()"
   ]
  },
  {
   "cell_type": "code",
   "execution_count": null,
   "metadata": {},
   "outputs": [],
   "source": [
    "def get_images(directory, imtype='*', objectname='*', filt='*', display_options=False):\n",
    "\t'''\n",
    "\tThis function returns a list of images given input parameters specifying the type of images needed.\n",
    "\n",
    "\tParameters\n",
    "\t----------\n",
    "\tdirectory : str\n",
    "\t\tThe directory in which getImages should look for .fits files.\n",
    "\n",
    "\timtype : str\n",
    "\t\tThe IMAGETYP keyword in the header of the .fits files to be returned. Used to indicate whether\n",
    "\t\tthe returned images should be flats, biases, objects, etc.\n",
    "\n",
    "\tobjectname : str\n",
    "\t\tThe OBJECT keyword in the header of the .fits files to be returned. Used to indicate which\n",
    "\t\ttarget (eg. UGC1171, NGC628, etc.) is desired.\n",
    "\n",
    "\tfilt : str\n",
    "\t\tThe FILTER keyword in the header of the .fits files to be returned. Used to indicate which\n",
    "\t\ttelescope filter (eg. B-BESSEL, R-BESSEL, etc.) is desired.\n",
    "\n",
    "\tdisplay_options : bool\n",
    "\t\tIf True, get_images will not return a list of images but will instead return a dict of available\n",
    "\t\toptions for each other input parameter (imtype, objectname, redlevel) based on the contents of\n",
    "\t\tthe .fits headers in the given directory.\n",
    "\n",
    "\tReturns\n",
    "\t-------\n",
    "\tImageFileCollection (when display_options == False)\n",
    "\t\tReturns an ImageFileCollection object containing information about images consistent with the input parameters\n",
    "\n",
    "\t'''\n",
    "\n",
    "\tpath = Path(directory)\n",
    "\tkeys = ['imagetyp','object','filter','propid','exptime']\n",
    "\tall_images = ImageFileCollection(path, keywords=keys)\n",
    "\n",
    "\ttry:\n",
    "\t\timages = all_images.filter(imagetyp=imtype, object=objectname, filter=filt)\n",
    "\texcept FileNotFoundError:\n",
    "\t\tprint('No images match the given options.')\n",
    "\t\treturn\n",
    "\n",
    "\tif display_options:\n",
    "\t\toptions = {}\n",
    "\n",
    "\t\toptions['imtype'] = images.values('imagetyp', unique=True)\n",
    "\t\toptions['objectname'] = images.values('object', unique=True)\n",
    "\t\toptions['filt'] = images.values('filter', unique=True)\n",
    "\n",
    "\t\tprint('Options','-------',sep='\\n')\n",
    "\t\tprint('\\n','imtype:', options['imtype'], sep='')\n",
    "\t\tprint('\\n', 'objectname:', options['objectname'], sep='')\n",
    "\t\tprint('\\n', 'filt:', options['filt'], sep='')\n",
    "\n",
    "\telse:\n",
    "\n",
    "\t\timages = all_images.filter(imagetyp=imtype, object=objectname, filter=filt)\n",
    "\n",
    "\t\treturn images"
   ]
  },
  {
   "cell_type": "code",
   "execution_count": 10,
   "metadata": {},
   "outputs": [
    {
     "data": {
      "text/plain": [
       "'./../lbcreduce_2020-02-19_18:15:47'"
      ]
     },
     "execution_count": 10,
     "metadata": {},
     "output_type": "execute_result"
    }
   ],
   "source": [
    "image_dir = './'\n",
    "datetime = time.strftime('%Y-%m-%d_%H:%M:%S',time.gmtime())\n",
    "out_dir_default = image_dir + f'../lbcreduce_{datetime}'\n",
    "out_dir_default"
   ]
  },
  {
   "cell_type": "code",
   "execution_count": 29,
   "metadata": {},
   "outputs": [
    {
     "data": {
      "text/plain": [
       "True"
      ]
     },
     "execution_count": 29,
     "metadata": {},
     "output_type": "execute_result"
    }
   ],
   "source": [
    "os.path.isdir('test')"
   ]
  },
  {
   "cell_type": "code",
   "execution_count": 32,
   "metadata": {},
   "outputs": [
    {
     "data": {
      "text/plain": [
       "False"
      ]
     },
     "execution_count": 32,
     "metadata": {},
     "output_type": "execute_result"
    }
   ],
   "source": [
    "dir_exists = True\n",
    "overwrite = True\n",
    "\n",
    "dir_exists and not overwrite"
   ]
  },
  {
   "cell_type": "code",
   "execution_count": 55,
   "metadata": {},
   "outputs": [],
   "source": [
    "import sys\n",
    "def more_stuff():\n",
    "    sys.exit('Program ended')\n",
    "    \n",
    "def do_stuff(num):\n",
    "    if num == 0:\n",
    "        more_stuff()\n",
    "    else:\n",
    "        print('Hi')\n",
    "    print('agian')"
   ]
  },
  {
   "cell_type": "code",
   "execution_count": 56,
   "metadata": {},
   "outputs": [
    {
     "ename": "SystemExit",
     "evalue": "Program ended",
     "output_type": "error",
     "traceback": [
      "An exception has occurred, use %tb to see the full traceback.\n",
      "\u001b[0;31mSystemExit\u001b[0m\u001b[0;31m:\u001b[0m Program ended\n"
     ]
    }
   ],
   "source": [
    "do_stuff(0)"
   ]
  },
  {
   "cell_type": "markdown",
   "metadata": {},
   "source": [
    "# Test\n",
    "try `python` today!\n",
    "\n",
    "# Test1\n",
    "\n",
    "Link to [Test](#Test)"
   ]
  },
  {
   "cell_type": "code",
   "execution_count": 3,
   "metadata": {},
   "outputs": [
    {
     "data": {
      "text/plain": [
       "'/Users/kirstencasey/projects/LBCreduce/notebooks'"
      ]
     },
     "execution_count": 3,
     "metadata": {},
     "output_type": "execute_result"
    }
   ],
   "source": [
    "image_dir = '../lbcred/'\n",
    "#os.chdir(image_dir)\n",
    "os.path.abspath(image_dir+'../notebooks')"
   ]
  },
  {
   "cell_type": "code",
   "execution_count": null,
   "metadata": {},
   "outputs": [],
   "source": []
  }
 ],
 "metadata": {
  "kernelspec": {
   "display_name": "Python 3",
   "language": "python",
   "name": "python3"
  },
  "language_info": {
   "codemirror_mode": {
    "name": "ipython",
    "version": 3
   },
   "file_extension": ".py",
   "mimetype": "text/x-python",
   "name": "python",
   "nbconvert_exporter": "python",
   "pygments_lexer": "ipython3",
   "version": "3.7.4"
  }
 },
 "nbformat": 4,
 "nbformat_minor": 2
}
