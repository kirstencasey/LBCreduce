{
 "cells": [
  {
   "cell_type": "code",
   "execution_count": 2,
   "metadata": {},
   "outputs": [],
   "source": [
    "import ccdproc\n",
    "from pathlib import Path\n",
    "from astropy.nddata import CCDData\n",
    "from lbcred import image, reduce"
   ]
  },
  {
   "cell_type": "code",
   "execution_count": 7,
   "metadata": {},
   "outputs": [
    {
     "data": {
      "text/html": [
       "<i>Table masked=True length=459</i>\n",
       "<table id=\"table47579686224\" class=\"table-striped table-bordered table-condensed\">\n",
       "<thead><tr><th>file</th><th>imagetyp</th><th>filter</th><th>object</th><th>exptime</th><th>naxis1</th><th>naxis2</th></tr></thead>\n",
       "<thead><tr><th>str25</th><th>str6</th><th>str8</th><th>str15</th><th>float64</th><th>int64</th><th>int64</th></tr></thead>\n",
       "<tr><td>lbcb.20191220.003943.fits</td><td>flat</td><td>SDT_Uspe</td><td>SkyFlat</td><td>1.284</td><td>2304</td><td>4608</td></tr>\n",
       "<tr><td>lbcb.20191220.004029.fits</td><td>flat</td><td>SDT_Uspe</td><td>SkyFlat</td><td>1.266</td><td>2304</td><td>4608</td></tr>\n",
       "<tr><td>lbcb.20191220.004110.fits</td><td>flat</td><td>SDT_Uspe</td><td>SkyFlat</td><td>1.284</td><td>2304</td><td>4608</td></tr>\n",
       "<tr><td>lbcb.20191220.004155.fits</td><td>flat</td><td>SDT_Uspe</td><td>SkyFlat</td><td>1.266</td><td>2304</td><td>4608</td></tr>\n",
       "<tr><td>lbcb.20191220.004237.fits</td><td>flat</td><td>SDT_Uspe</td><td>SkyFlat</td><td>1.284</td><td>2304</td><td>4608</td></tr>\n",
       "<tr><td>lbcb.20191220.004615.fits</td><td>flat</td><td>B-BESSEL</td><td>SkyFlat</td><td>1.284</td><td>2304</td><td>4608</td></tr>\n",
       "<tr><td>lbcb.20191220.004658.fits</td><td>flat</td><td>B-BESSEL</td><td>SkyFlat</td><td>1.266</td><td>2304</td><td>4608</td></tr>\n",
       "<tr><td>lbcb.20191220.004744.fits</td><td>flat</td><td>B-BESSEL</td><td>SkyFlat</td><td>1.284</td><td>2304</td><td>4608</td></tr>\n",
       "<tr><td>lbcb.20191220.004910.fits</td><td>flat</td><td>B-BESSEL</td><td>SkyFlat</td><td>1.284</td><td>2304</td><td>4608</td></tr>\n",
       "<tr><td>lbcb.20191220.005038.fits</td><td>flat</td><td>V-BESSEL</td><td>SkyFlat</td><td>1.266</td><td>2304</td><td>4608</td></tr>\n",
       "<tr><td>...</td><td>...</td><td>...</td><td>...</td><td>...</td><td>...</td><td>...</td></tr>\n",
       "<tr><td>lbcr.20191222.052542.fits</td><td>object</td><td>R-BESSEL</td><td>KK17</td><td>300.241</td><td>2304</td><td>4608</td></tr>\n",
       "<tr><td>lbcr.20191222.053122.fits</td><td>object</td><td>R-BESSEL</td><td>KK17</td><td>30.246</td><td>2304</td><td>4608</td></tr>\n",
       "<tr><td>lbcr.20191222.053239.fits</td><td>object</td><td>R-BESSEL</td><td>KK17</td><td>300.242</td><td>2304</td><td>4608</td></tr>\n",
       "<tr><td>lbcr.20191222.053819.fits</td><td>object</td><td>R-BESSEL</td><td>KK17</td><td>30.246</td><td>2304</td><td>4608</td></tr>\n",
       "<tr><td>lbcr.20191222.053944.fits</td><td>object</td><td>R-BESSEL</td><td>KK17</td><td>300.241</td><td>2304</td><td>4608</td></tr>\n",
       "<tr><td>lbcr.20191222.054522.fits</td><td>object</td><td>R-BESSEL</td><td>KK17</td><td>30.246</td><td>2304</td><td>4608</td></tr>\n",
       "<tr><td>lbcr.20191222.054641.fits</td><td>object</td><td>R-BESSEL</td><td>KK17</td><td>300.241</td><td>2304</td><td>4608</td></tr>\n",
       "<tr><td>lbcr.20191222.055221.fits</td><td>object</td><td>R-BESSEL</td><td>KK17</td><td>30.246</td><td>2304</td><td>4608</td></tr>\n",
       "<tr><td>lbcr.20191222.055336.fits</td><td>object</td><td>R-BESSEL</td><td>KK17</td><td>300.242</td><td>2304</td><td>4608</td></tr>\n",
       "<tr><td>lbcr.20191222.055915.fits</td><td>object</td><td>R-BESSEL</td><td>KK17</td><td>30.246</td><td>2304</td><td>4608</td></tr>\n",
       "</table>"
      ],
      "text/plain": [
       "<Table masked=True length=459>\n",
       "           file           imagetyp  filter   object exptime naxis1 naxis2\n",
       "          str25             str6     str8    str15  float64 int64  int64 \n",
       "------------------------- -------- -------- ------- ------- ------ ------\n",
       "lbcb.20191220.003943.fits     flat SDT_Uspe SkyFlat   1.284   2304   4608\n",
       "lbcb.20191220.004029.fits     flat SDT_Uspe SkyFlat   1.266   2304   4608\n",
       "lbcb.20191220.004110.fits     flat SDT_Uspe SkyFlat   1.284   2304   4608\n",
       "lbcb.20191220.004155.fits     flat SDT_Uspe SkyFlat   1.266   2304   4608\n",
       "lbcb.20191220.004237.fits     flat SDT_Uspe SkyFlat   1.284   2304   4608\n",
       "lbcb.20191220.004615.fits     flat B-BESSEL SkyFlat   1.284   2304   4608\n",
       "lbcb.20191220.004658.fits     flat B-BESSEL SkyFlat   1.266   2304   4608\n",
       "lbcb.20191220.004744.fits     flat B-BESSEL SkyFlat   1.284   2304   4608\n",
       "lbcb.20191220.004910.fits     flat B-BESSEL SkyFlat   1.284   2304   4608\n",
       "lbcb.20191220.005038.fits     flat V-BESSEL SkyFlat   1.266   2304   4608\n",
       "                      ...      ...      ...     ...     ...    ...    ...\n",
       "lbcr.20191222.052542.fits   object R-BESSEL    KK17 300.241   2304   4608\n",
       "lbcr.20191222.053122.fits   object R-BESSEL    KK17  30.246   2304   4608\n",
       "lbcr.20191222.053239.fits   object R-BESSEL    KK17 300.242   2304   4608\n",
       "lbcr.20191222.053819.fits   object R-BESSEL    KK17  30.246   2304   4608\n",
       "lbcr.20191222.053944.fits   object R-BESSEL    KK17 300.241   2304   4608\n",
       "lbcr.20191222.054522.fits   object R-BESSEL    KK17  30.246   2304   4608\n",
       "lbcr.20191222.054641.fits   object R-BESSEL    KK17 300.241   2304   4608\n",
       "lbcr.20191222.055221.fits   object R-BESSEL    KK17  30.246   2304   4608\n",
       "lbcr.20191222.055336.fits   object R-BESSEL    KK17 300.242   2304   4608\n",
       "lbcr.20191222.055915.fits   object R-BESSEL    KK17  30.246   2304   4608"
      ]
     },
     "execution_count": 7,
     "metadata": {},
     "output_type": "execute_result"
    }
   ],
   "source": [
    "#### Call function to get images\n",
    "lbc_raw = Path('/Volumes/WD-EXFAT/Images/lbc-raw/')\n",
    "lbc_red = Path('/Volumes/WD-EXFAT/Images/','lbc-reduced')\n",
    "lbc_red.mkdir(exist_ok=True)\n",
    "all_files = ccdproc.ImageFileCollection(lbc_raw,ext=1)\n",
    "all_files.summary['file','imagetyp','filter','object','exptime','naxis1','naxis2']"
   ]
  },
  {
   "cell_type": "code",
   "execution_count": 10,
   "metadata": {},
   "outputs": [],
   "source": [
    "#### Call function to calibrate bias images and make master bias\n",
    "biases_raw = all_files.files_filtered(include_path=True,imagetyp='zero')\n",
    "# Loop through bias images and calibrate each one (subtract overscan and trim)\n",
    "# Combine all bias images\n",
    "# Return 'master' bias"
   ]
  },
  {
   "cell_type": "code",
   "execution_count": 4,
   "metadata": {},
   "outputs": [],
   "source": [
    "# Call function to do biasing"
   ]
  },
  {
   "cell_type": "code",
   "execution_count": 5,
   "metadata": {},
   "outputs": [],
   "source": [
    "# Call function to do flat fielding"
   ]
  },
  {
   "cell_type": "code",
   "execution_count": 6,
   "metadata": {},
   "outputs": [],
   "source": [
    "# Call function to stack images/do astrometry"
   ]
  },
  {
   "cell_type": "code",
   "execution_count": 27,
   "metadata": {},
   "outputs": [
    {
     "data": {
      "text/plain": [
       "['NGC628KDG10',\n",
       " 'KK15',\n",
       " 'KK17',\n",
       " 'DDO13_UGC01171',\n",
       " 'M81blob',\n",
       " 'TYC 627-39-1',\n",
       " 'faint',\n",
       " 'UGC685',\n",
       " 'BinoBias',\n",
       " 'TYC 1205-1173-1',\n",
       " 'DDO043',\n",
       " 'TYC 1205-1342-1',\n",
       " 'NGC628 smiley',\n",
       " 'AGC748778',\n",
       " 'NGC628LSB',\n",
       " 'SkyFlat']"
      ]
     },
     "execution_count": 27,
     "metadata": {},
     "output_type": "execute_result"
    }
   ],
   "source": [
    "keys = ['imagetyp','object','filter',]\n",
    "collection = ccdproc.ImageFileCollection(lbc_raw, keywords=keys, ext=1)\n",
    "sub_collection = collection.files_filtered(imagetyp='object',filter='B-BESSEL',object='*')\n",
    "collection.values('object',unique=True)"
   ]
  },
  {
   "cell_type": "code",
   "execution_count": 31,
   "metadata": {},
   "outputs": [
    {
     "name": "stdout",
     "output_type": "stream",
     "text": [
      "           file           imagetyp  object  filter \n",
      "------------------------- -------- ------- --------\n",
      "lbcb.20191220.003943.fits     flat SkyFlat SDT_Uspe\n",
      "lbcb.20191220.004029.fits     flat SkyFlat SDT_Uspe\n",
      "lbcb.20191220.004110.fits     flat SkyFlat SDT_Uspe\n",
      "lbcb.20191220.004155.fits     flat SkyFlat SDT_Uspe\n",
      "lbcb.20191220.004237.fits     flat SkyFlat SDT_Uspe\n",
      "lbcb.20191220.004615.fits     flat SkyFlat B-BESSEL\n",
      "lbcb.20191220.004658.fits     flat SkyFlat B-BESSEL\n",
      "lbcb.20191220.004744.fits     flat SkyFlat B-BESSEL\n",
      "lbcb.20191220.004910.fits     flat SkyFlat B-BESSEL\n",
      "lbcb.20191220.005038.fits     flat SkyFlat V-BESSEL\n",
      "                      ...      ...     ...      ...\n",
      "lbcr.20191222.052427.fits   object    KK17 R-BESSEL\n",
      "lbcr.20191222.052542.fits   object    KK17 R-BESSEL\n",
      "lbcr.20191222.053122.fits   object    KK17 R-BESSEL\n",
      "lbcr.20191222.053239.fits   object    KK17 R-BESSEL\n",
      "lbcr.20191222.053819.fits   object    KK17 R-BESSEL\n",
      "lbcr.20191222.053944.fits   object    KK17 R-BESSEL\n",
      "lbcr.20191222.054522.fits   object    KK17 R-BESSEL\n",
      "lbcr.20191222.054641.fits   object    KK17 R-BESSEL\n",
      "lbcr.20191222.055221.fits   object    KK17 R-BESSEL\n",
      "lbcr.20191222.055336.fits   object    KK17 R-BESSEL\n",
      "lbcr.20191222.055915.fits   object    KK17 R-BESSEL\n",
      "Length = 459 rows\n"
     ]
    }
   ],
   "source": [
    "print(collection.summary)"
   ]
  },
  {
   "cell_type": "code",
   "execution_count": 48,
   "metadata": {},
   "outputs": [
    {
     "name": "stdout",
     "output_type": "stream",
     "text": [
      "Options\n",
      "-------\n",
      "\n",
      "imtype: ['object']\n",
      "\n",
      "objectname: ['UGC685']\n",
      "\n",
      "filt: ['B-BESSEL', 'R-BESSEL']\n"
     ]
    }
   ],
   "source": [
    "imtype='*'\n",
    "objectname='UGC685'\n",
    "filt='*'\n",
    "\n",
    "images = collection.filter(imagetyp=imtype, object=objectname, filter=filt)\n",
    "options = {}\n",
    "options['imtype'] = images.values('imagetyp', unique=True)\n",
    "options['objectname'] = images.values('object', unique=True)\n",
    "options['filt'] = images.values('filter', unique=True)\n",
    "print('Options','-------',sep='\\n')\n",
    "print('\\n','imtype: ', options['imtype'],sep='')\n",
    "print('\\n','objectname: ', options['objectname'], sep='')\n",
    "print('\\n', 'filt: ', options['filt'], sep='')"
   ]
  },
  {
   "cell_type": "code",
   "execution_count": null,
   "metadata": {},
   "outputs": [],
   "source": []
  }
 ],
 "metadata": {
  "kernelspec": {
   "display_name": "Python 3",
   "language": "python",
   "name": "python3"
  },
  "language_info": {
   "codemirror_mode": {
    "name": "ipython",
    "version": 3
   },
   "file_extension": ".py",
   "mimetype": "text/x-python",
   "name": "python",
   "nbconvert_exporter": "python",
   "pygments_lexer": "ipython3",
   "version": "3.7.3"
  }
 },
 "nbformat": 4,
 "nbformat_minor": 2
}
