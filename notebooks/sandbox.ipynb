{
 "cells": [
  {
   "cell_type": "code",
   "execution_count": 1,
   "metadata": {},
   "outputs": [],
   "source": [
    "import ccdproc, sys,glob,yaml, shutil\n",
    "from pathlib import Path\n",
    "from astropy.nddata import CCDData\n",
    "#sys.path.insert(1, '/Users/kirstencasey/projects/LBCreduce/lbcred')\n",
    "#import image, reduce, \n",
    "import time, os, warnings\n",
    "from astropy import stats\n",
    "import numpy as np\n",
    "import matplotlib.pyplot as plt\n",
    "from astropy.io import fits\n",
    "from astropy.table import Table\n",
    "from astropy.utils.exceptions import AstropyUserWarning"
   ]
  },
  {
   "cell_type": "code",
   "execution_count": 2,
   "metadata": {},
   "outputs": [
    {
     "name": "stdout",
     "output_type": "stream",
     "text": [
      "           file           imagetyp   filter   object\n",
      "------------------------- -------- --------- -------\n",
      "lbcb.20191220.003943.fits     flat SDT_Uspec SkyFlat\n",
      "lbcb.20191220.004029.fits     flat SDT_Uspec SkyFlat\n",
      "lbcb.20191220.004110.fits     flat SDT_Uspec SkyFlat\n",
      "lbcb.20191220.004155.fits     flat SDT_Uspec SkyFlat\n",
      "lbcb.20191220.004237.fits     flat SDT_Uspec SkyFlat\n",
      "lbcb.20191220.004615.fits     flat  B-BESSEL SkyFlat\n",
      "lbcb.20191220.004658.fits     flat  B-BESSEL SkyFlat\n",
      "lbcb.20191220.004744.fits     flat  B-BESSEL SkyFlat\n",
      "lbcb.20191220.004910.fits     flat  B-BESSEL SkyFlat\n",
      "lbcb.20191220.005038.fits     flat  V-BESSEL SkyFlat\n",
      "                      ...      ...       ...     ...\n",
      "lbcr.20191222.052427.fits   object  R-BESSEL    KK17\n",
      "lbcr.20191222.052542.fits   object  R-BESSEL    KK17\n",
      "lbcr.20191222.053122.fits   object  R-BESSEL    KK17\n",
      "lbcr.20191222.053239.fits   object  R-BESSEL    KK17\n",
      "lbcr.20191222.053819.fits   object  R-BESSEL    KK17\n",
      "lbcr.20191222.053944.fits   object  R-BESSEL    KK17\n",
      "lbcr.20191222.054522.fits   object  R-BESSEL    KK17\n",
      "lbcr.20191222.054641.fits   object  R-BESSEL    KK17\n",
      "lbcr.20191222.055221.fits   object  R-BESSEL    KK17\n",
      "lbcr.20191222.055336.fits   object  R-BESSEL    KK17\n",
      "lbcr.20191222.055915.fits   object  R-BESSEL    KK17\n",
      "Length = 459 rows\n"
     ]
    }
   ],
   "source": [
    "#### Call function to get images\n",
    "lbc_raw = Path('/Users/kirstencasey/test_raw_ims/')\n",
    "#lbc_raw = Path('/Volumes/WD-EXFAT/Images/lbc-raw/')\n",
    "\n",
    "#lbc_red = Path('/Volumes/WD-EXFAT/Images/','lbc-reduced')\n",
    "#lbc_red.mkdir(exist_ok=True)\n",
    "keys = ['imagetyp', 'filter', 'object']\n",
    "all_files = ccdproc.ImageFileCollection(lbc_raw, keywords=keys)\n",
    "print(all_files.summary)"
   ]
  },
  {
   "cell_type": "code",
   "execution_count": 11,
   "metadata": {},
   "outputs": [],
   "source": [
    "# NEW #\n",
    "def initialize_config(config_filename):\n",
    "\t# Open and read config file\n",
    "\twith open(config_filename, 'r') as filename:\n",
    "\t\tconfig = yaml.load(filename, Loader=yaml.FullLoader)\n",
    "\n",
    "\treturn config\n",
    "\n",
    "def get_image_info(config, image_dir=None, filenames=None):\n",
    "\n",
    "\tif image_dir is None:\n",
    "\t\timage_dir = config['image_dir']\n",
    "\n",
    "\tif filenames is None:\n",
    "\t\tall_images = glob.glob(image_dir+config['glob_include'])\n",
    "\n",
    "\t\tif len(all_images) == 0:\n",
    "\t\t\twarnings.warn('No files found in image_dir!', AstropyUserWarning)\t########## WORK ON THIS - for when no files are found ###########\n",
    "\t\t\tsys.exit('lbcreduce stopped.')\n",
    "\n",
    "\t\tif config['exclude'] is not None:\n",
    "\t\t\tall_images = [ im for im in all_images if config['exclude'] not in im ]\n",
    "\n",
    "\telse:\n",
    "\t\tall_images = filenames\n",
    "\tall_images = [im.split('/')[-1] for im in all_images]\n",
    "\n",
    "\t# Loop through files to get relevant information\n",
    "\tpropids = []\n",
    "\tobjects = []\n",
    "\timagetyps = []\t\t\t\t\t######################### DO THIS BETTER!!!!!########################\n",
    "\tfilters = []\n",
    "\tlbcinst = []\n",
    "\tfor fi in all_images:\n",
    "\t\thdulist = fits.open(image_dir + fi)\n",
    "\t\tpropids.append(hdulist[0].header['PROPID'])\n",
    "\t\tobjects.append(hdulist[1].header['OBJECT'])\n",
    "\t\timagetyps.append(hdulist[1].header['IMAGETYP'])\n",
    "\t\tfilters.append(hdulist[1].header['FILTER'])\n",
    "\t\tlbcinst.append(hdulist[0].header['INSTRUME'])\n",
    "\t\thdulist.close()\n",
    "\n",
    "\tpropids = np.asarray(propids)\n",
    "\tall_images = np.asarray(all_images)\n",
    "\tobjects = np.asarray(objects)\n",
    "\timagetyps = np.asarray(imagetyps)\n",
    "\tfilters = np.asarray(filters)\n",
    "\tlbcinst = np.asarray(lbcinst)\n",
    "\t'''\t\t\t\t\t\t\t\t\t\t\t\t\t\t\t\t########### THIS DOESN'T WORK!!!! NEED TO NOT EXCLUDE FLATS, BIAS IMAGES, ETC.\n",
    "\tif config['propid'] is not None:\n",
    "\t\tims_to_keep = np.where(propids==config['propid'])\n",
    "\t\tpropids = propids[ims_to_keep]\n",
    "\t\tall_images = all_images[ims_to_keep]\n",
    "\t\tobjects = objects[ims_to_keep]\n",
    "\t\timagetyps = imagetyps[ims_to_keep]\n",
    "\n",
    "\tif config['object'] is not None:\n",
    "\t\tims_to_keep = np.where(objects==config['object'])\n",
    "\t\tpropids = propids[ims_to_keep]\n",
    "\t\tall_images = all_images[ims_to_keep]\n",
    "\t\tobjects = objects[ims_to_keep]\n",
    "\t\timagetyps = imagetyps[ims_to_keep]\n",
    "\t'''\n",
    "\timage_info = Table()\n",
    "\timage_info['filename'] = all_images\n",
    "\timage_info['imagetyp'] = imagetyps\n",
    "\timage_info['object'] = objects\n",
    "\timage_info['propid'] = propids\n",
    "\timage_info['filter'] = filters\n",
    "\timage_info['instrument'] = lbcinst\n",
    "\n",
    "\treturn image_info"
   ]
  },
  {
   "cell_type": "code",
   "execution_count": 10,
   "metadata": {},
   "outputs": [],
   "source": [
    "# OLD #\n",
    "def initialize_config(config_filename):\n",
    "\t# Open and read config file\n",
    "\twith open(config_filename, 'r') as filename:\n",
    "\t\tconfig = yaml.load(filename, Loader=yaml.FullLoader)\n",
    "\n",
    "\treturn config\n",
    "\n",
    "def get_image_info(config, image_dir=None):\n",
    "\tif image_dir is None:\n",
    "\t\timage_dir = config['image_dir']\n",
    "\n",
    "\t# all_images = ImageFileCollection(image_dir, ext=config['ext'], keywords=keys, **config['file_selection_options'])\n",
    "\tall_images = glob.glob(image_dir+config['glob_include'])\n",
    "\n",
    "\tif len(all_images) == 0:\n",
    "\t\twarnings.warn('No files found in image_dir!', AstropyUserWarning)\t########## WORK ON THIS - for when no files are found ###########\n",
    "\t\tsys.exit('lbcreduce stopped.')\n",
    "\n",
    "\tif config['exclude'] is not None:\n",
    "\t\tall_images = [ im for im in all_images if config['exclude'] not in im ]\n",
    "\n",
    "\t# Loop through files to get relevant information\n",
    "\tpropids = []\n",
    "\tobjects = []\n",
    "\timagetyps = []\n",
    "\n",
    "\tfor fi in all_images:\n",
    "\t\thdulist = fits.open(fi)\n",
    "\t\tpropids.append(hdulist[0].header['PROPID'])\n",
    "\t\tobjects.append(hdulist[0].header['OBJECT'])\n",
    "\t\timagetyps.append(hdulist[0].header['IMAGETYP'])\n",
    "\n",
    "\t\thdulist.close()\n",
    "\n",
    "\tpropids = np.asarray(propids)\n",
    "\tall_images = np.asarray(all_images)\n",
    "\tobjects = np.asarray(objects)\n",
    "\timagetyps = np.asarray(imagetyps)\n",
    "\n",
    "\t'''########### THIS DOESN'T WORK!!!! NEED TO NOT EXCLUDE FLATS, BIAS IMAGES, ETC.\n",
    "\tif config['propid'] is not None:\n",
    "\t\tims_to_keep = np.where(propids==config['propid'])\n",
    "\t\tpropids = propids[ims_to_keep]\n",
    "\t\tall_images = all_images[ims_to_keep]\n",
    "\t\tobjects = objects[ims_to_keep]\n",
    "\t\timagetyps = imagetyps[ims_to_keep]\n",
    "\n",
    "\tif config['object'] is not None:\n",
    "\t\tims_to_keep = np.where(objects==config['object'])\n",
    "\t\tpropids = propids[ims_to_keep]\n",
    "\t\tall_images = all_images[ims_to_keep]\n",
    "\t\tobjects = objects[ims_to_keep]\n",
    "\t\timagetyps = imagetyps[ims_to_keep]\n",
    "\t'''\n",
    "\timage_info = Table()\n",
    "\timage_info['filename'] = all_images\n",
    "\timage_info['imagetyp'] = imagetyps\n",
    "\timage_info['object'] = objects\n",
    "\timage_info['propid'] = propids\n",
    "\n",
    "\n",
    "\treturn image_info"
   ]
  },
  {
   "cell_type": "code",
   "execution_count": 12,
   "metadata": {},
   "outputs": [],
   "source": [
    "config = initialize_config('../lbcred/lbcreduce-config.yml')\n",
    "\n",
    "file_info = get_image_info(config,'/Users/kirstencasey/test_raw_ims/')\n",
    "#file_info = get_image_info(config,'/Volumes/WD-EXFAT/Images/lbc-raw/')\n",
    "#mid_info = get_image_info(config,'/Users/kirstencasey/projects/LBCreduce/lbcred/test_out/midproc/')"
   ]
  },
  {
   "cell_type": "code",
   "execution_count": 13,
   "metadata": {},
   "outputs": [
    {
     "data": {
      "text/plain": [
       "<function numpy.ma.extras.median(a, axis=None, out=None, overwrite_input=False, keepdims=False)>"
      ]
     },
     "execution_count": 13,
     "metadata": {},
     "output_type": "execute_result"
    }
   ],
   "source": [
    "combine_arg_dict = {'masked median': np.ma.median}\n",
    "config = dict(sigma_clip_func='masked median',sigma_clip=True,num=5)\n",
    "config['sigma_clip_func'] = combine_arg_dict[config['sigma_clip_func']]\n",
    "config['sigma_clip_func']\n"
   ]
  },
  {
   "cell_type": "code",
   "execution_count": 11,
   "metadata": {},
   "outputs": [
    {
     "name": "stdout",
     "output_type": "stream",
     "text": [
      "[2907166008, 2920501560, 17840030310, 190166925212, 285562142522, 156281184714, 4184352692, 239267115727, 11102815085, 85143852958, 2717473027, 2737348021]\n"
     ]
    }
   ],
   "source": [
    "counts = []\n",
    "for fi in file_info['filename']:\n",
    "    data = CCDData.read(fi, unit=config['data_units'], hdu=config['ext'])\n",
    "    data_sum = np.sum(data)\n",
    "    counts.append(data_sum)\n",
    "    \n",
    "print(counts)\n",
    "plt.hist(counts,bins=40)"
   ]
  },
  {
   "cell_type": "code",
   "execution_count": 56,
   "metadata": {},
   "outputs": [
    {
     "name": "stderr",
     "output_type": "stream",
     "text": [
      "INFO:astropy:first HDU with data is extension 1.\n"
     ]
    },
    {
     "name": "stdout",
     "output_type": "stream",
     "text": [
      "INFO: first HDU with data is extension 1. [astropy.nddata.ccddata]\n",
      "/Users/kirstencasey/test_out/midproc/lbcr.20191220.140043-chip1_T.fits /Users/kirstencasey/test_out/midproc/masterflat-chip1_B-BESSEL.fits\n"
     ]
    }
   ],
   "source": [
    "file_info\n",
    "\n",
    "data = CCDData.read(file_info[2]['filename'],unit='adu',ext=1)\n",
    "print(file_info[2]['filename'],file_info[5]['filename'])\n",
    "#flat = CCDData.read(file_info[5]['filename'],unit='adu',ext=1)\n",
    "\n",
    "result = CCDData.divide(data, flat)"
   ]
  },
  {
   "cell_type": "code",
   "execution_count": 55,
   "metadata": {},
   "outputs": [],
   "source": [
    "flat.data[np.where(flat.data==0)]='Nan'"
   ]
  },
  {
   "cell_type": "code",
   "execution_count": 61,
   "metadata": {},
   "outputs": [
    {
     "ename": "IORegistryError",
     "evalue": "No writer defined for format 'fits' and class 'NoneType'.\n\nThe available formats are:\n\nFormat Read Write Auto-identify\n------ ---- ----- -------------",
     "output_type": "error",
     "traceback": [
      "\u001b[0;31m---------------------------------------------------------------------------\u001b[0m",
      "\u001b[0;31mIORegistryError\u001b[0m                           Traceback (most recent call last)",
      "\u001b[0;32m<ipython-input-61-1abde6517591>\u001b[0m in \u001b[0;36m<module>\u001b[0;34m\u001b[0m\n\u001b[0;32m----> 1\u001b[0;31m \u001b[0mCCDData\u001b[0m\u001b[0;34m.\u001b[0m\u001b[0mwrite\u001b[0m\u001b[0;34m(\u001b[0m\u001b[0mresult\u001b[0m\u001b[0;34m,\u001b[0m\u001b[0;34m'test.fits'\u001b[0m\u001b[0;34m,\u001b[0m\u001b[0mformat\u001b[0m\u001b[0;34m=\u001b[0m\u001b[0;34m'fits'\u001b[0m\u001b[0;34m)\u001b[0m\u001b[0;34m\u001b[0m\u001b[0;34m\u001b[0m\u001b[0m\n\u001b[0m",
      "\u001b[0;32m~/opt/anaconda3/lib/python3.7/site-packages/astropy/nddata/mixins/ndio.py\u001b[0m in \u001b[0;36m__call__\u001b[0;34m(self, *args, **kwargs)\u001b[0m\n\u001b[1;32m     94\u001b[0m \u001b[0;34m\u001b[0m\u001b[0m\n\u001b[1;32m     95\u001b[0m     \u001b[0;32mdef\u001b[0m \u001b[0m__call__\u001b[0m\u001b[0;34m(\u001b[0m\u001b[0mself\u001b[0m\u001b[0;34m,\u001b[0m \u001b[0;34m*\u001b[0m\u001b[0margs\u001b[0m\u001b[0;34m,\u001b[0m \u001b[0;34m**\u001b[0m\u001b[0mkwargs\u001b[0m\u001b[0;34m)\u001b[0m\u001b[0;34m:\u001b[0m\u001b[0;34m\u001b[0m\u001b[0;34m\u001b[0m\u001b[0m\n\u001b[0;32m---> 96\u001b[0;31m         \u001b[0mregistry\u001b[0m\u001b[0;34m.\u001b[0m\u001b[0mwrite\u001b[0m\u001b[0;34m(\u001b[0m\u001b[0mself\u001b[0m\u001b[0;34m.\u001b[0m\u001b[0m_instance\u001b[0m\u001b[0;34m,\u001b[0m \u001b[0;34m*\u001b[0m\u001b[0margs\u001b[0m\u001b[0;34m,\u001b[0m \u001b[0;34m**\u001b[0m\u001b[0mkwargs\u001b[0m\u001b[0;34m)\u001b[0m\u001b[0;34m\u001b[0m\u001b[0;34m\u001b[0m\u001b[0m\n\u001b[0m\u001b[1;32m     97\u001b[0m \u001b[0;34m\u001b[0m\u001b[0m\n\u001b[1;32m     98\u001b[0m \u001b[0;34m\u001b[0m\u001b[0m\n",
      "\u001b[0;32m~/opt/anaconda3/lib/python3.7/site-packages/astropy/io/registry.py\u001b[0m in \u001b[0;36mwrite\u001b[0;34m(data, format, *args, **kwargs)\u001b[0m\n\u001b[1;32m    563\u001b[0m             'write', data.__class__, path, fileobj, args, kwargs)\n\u001b[1;32m    564\u001b[0m \u001b[0;34m\u001b[0m\u001b[0m\n\u001b[0;32m--> 565\u001b[0;31m     \u001b[0mwriter\u001b[0m \u001b[0;34m=\u001b[0m \u001b[0mget_writer\u001b[0m\u001b[0;34m(\u001b[0m\u001b[0mformat\u001b[0m\u001b[0;34m,\u001b[0m \u001b[0mdata\u001b[0m\u001b[0;34m.\u001b[0m\u001b[0m__class__\u001b[0m\u001b[0;34m)\u001b[0m\u001b[0;34m\u001b[0m\u001b[0;34m\u001b[0m\u001b[0m\n\u001b[0m\u001b[1;32m    566\u001b[0m     \u001b[0mwriter\u001b[0m\u001b[0;34m(\u001b[0m\u001b[0mdata\u001b[0m\u001b[0;34m,\u001b[0m \u001b[0;34m*\u001b[0m\u001b[0margs\u001b[0m\u001b[0;34m,\u001b[0m \u001b[0;34m**\u001b[0m\u001b[0mkwargs\u001b[0m\u001b[0;34m)\u001b[0m\u001b[0;34m\u001b[0m\u001b[0;34m\u001b[0m\u001b[0m\n\u001b[1;32m    567\u001b[0m \u001b[0;34m\u001b[0m\u001b[0m\n",
      "\u001b[0;32m~/opt/anaconda3/lib/python3.7/site-packages/astropy/io/registry.py\u001b[0m in \u001b[0;36mget_writer\u001b[0;34m(data_format, data_class)\u001b[0m\n\u001b[1;32m    481\u001b[0m             \u001b[0;34m\"No writer defined for format '{0}' and class '{1}'.\\n\\nThe \"\u001b[0m\u001b[0;34m\u001b[0m\u001b[0;34m\u001b[0m\u001b[0m\n\u001b[1;32m    482\u001b[0m             \"available formats are:\\n\\n{2}\".format(\n\u001b[0;32m--> 483\u001b[0;31m                 data_format, data_class.__name__, format_table_str))\n\u001b[0m\u001b[1;32m    484\u001b[0m \u001b[0;34m\u001b[0m\u001b[0m\n\u001b[1;32m    485\u001b[0m \u001b[0;34m\u001b[0m\u001b[0m\n",
      "\u001b[0;31mIORegistryError\u001b[0m: No writer defined for format 'fits' and class 'NoneType'.\n\nThe available formats are:\n\nFormat Read Write Auto-identify\n------ ---- ----- -------------"
     ]
    }
   ],
   "source": [
    "CCDData.write(result,'test.fits',format='fits')"
   ]
  },
  {
   "cell_type": "code",
   "execution_count": 79,
   "metadata": {},
   "outputs": [],
   "source": [
    "type(result.meta)\n",
    "hdr = fits.Header(data.meta)\n",
    "\n",
    "fits.writeto('out.fits', result.data, hdr,overwrite=True)"
   ]
  },
  {
   "cell_type": "code",
   "execution_count": null,
   "metadata": {},
   "outputs": [],
   "source": []
  },
  {
   "cell_type": "code",
   "execution_count": 49,
   "metadata": {},
   "outputs": [
    {
     "data": {
      "text/html": [
       "<i>Table length=500</i>\n",
       "<table id=\"table47824839632\" class=\"table-striped table-bordered table-condensed\">\n",
       "<thead><tr><th>filename</th><th>imagetyp</th><th>object</th><th>propid</th></tr></thead>\n",
       "<thead><tr><th>str58</th><th>str6</th><th>str13</th><th>str13</th></tr></thead>\n",
       "<tr><td>/Volumes/WD-EXFAT/Images/lbc-raw/lbcr.20191221.063655.fits</td><td>object</td><td>I2574</td><td>OSU_monitor</td></tr>\n",
       "<tr><td>/Volumes/WD-EXFAT/Images/lbc-raw/lbcr.20191221.064033.fits</td><td>object</td><td>I2574</td><td>OSU_monitor</td></tr>\n",
       "<tr><td>/Volumes/WD-EXFAT/Images/lbc-raw/lbcr.20191221.064413.fits</td><td>object</td><td>I2574</td><td>OSU_monitor</td></tr>\n",
       "<tr><td>/Volumes/WD-EXFAT/Images/lbc-raw/lbcr.20191221.070144.fits</td><td>object</td><td>N925</td><td>OSU_monitor</td></tr>\n",
       "<tr><td>/Volumes/WD-EXFAT/Images/lbc-raw/lbcr.20191221.070725.fits</td><td>object</td><td>N925</td><td>OSU_monitor</td></tr>\n",
       "<tr><td>/Volumes/WD-EXFAT/Images/lbc-raw/lbcb.20191220.003943.fits</td><td>flat</td><td>SkyFlat</td><td>flatcalib</td></tr>\n",
       "<tr><td>/Volumes/WD-EXFAT/Images/lbc-raw/lbcr.20191221.071305.fits</td><td>object</td><td>N925</td><td>OSU_monitor</td></tr>\n",
       "<tr><td>/Volumes/WD-EXFAT/Images/lbc-raw/lbcr.20191221.071846.fits</td><td>object</td><td>N925</td><td>OSU_monitor</td></tr>\n",
       "<tr><td>/Volumes/WD-EXFAT/Images/lbc-raw/lbcb.20191220.004029.fits</td><td>flat</td><td>SkyFlat</td><td>flatcalib</td></tr>\n",
       "<tr><td>/Volumes/WD-EXFAT/Images/lbc-raw/lbcr.20191221.073757.fits</td><td>object</td><td>N2903</td><td>OSU_monitor</td></tr>\n",
       "<tr><td>...</td><td>...</td><td>...</td><td>...</td></tr>\n",
       "<tr><td>/Volumes/WD-EXFAT/Images/lbc-raw/lbcr.20191222.052542.fits</td><td>object</td><td>KK17</td><td>OSU_LBCSBF</td></tr>\n",
       "<tr><td>/Volumes/WD-EXFAT/Images/lbc-raw/lbcr.20191222.053122.fits</td><td>object</td><td>KK17</td><td>OSU_LBCSBF</td></tr>\n",
       "<tr><td>/Volumes/WD-EXFAT/Images/lbc-raw/lbcr.20191222.053239.fits</td><td>object</td><td>KK17</td><td>OSU_LBCSBF</td></tr>\n",
       "<tr><td>/Volumes/WD-EXFAT/Images/lbc-raw/lbcr.20191222.053819.fits</td><td>object</td><td>KK17</td><td>OSU_LBCSBF</td></tr>\n",
       "<tr><td>/Volumes/WD-EXFAT/Images/lbc-raw/lbcr.20191222.053944.fits</td><td>object</td><td>KK17</td><td>OSU_LBCSBF</td></tr>\n",
       "<tr><td>/Volumes/WD-EXFAT/Images/lbc-raw/lbcr.20191222.054522.fits</td><td>object</td><td>KK17</td><td>OSU_LBCSBF</td></tr>\n",
       "<tr><td>/Volumes/WD-EXFAT/Images/lbc-raw/lbcr.20191222.054641.fits</td><td>object</td><td>KK17</td><td>OSU_LBCSBF</td></tr>\n",
       "<tr><td>/Volumes/WD-EXFAT/Images/lbc-raw/lbcr.20191222.055221.fits</td><td>object</td><td>KK17</td><td>OSU_LBCSBF</td></tr>\n",
       "<tr><td>/Volumes/WD-EXFAT/Images/lbc-raw/lbcr.20191222.055336.fits</td><td>object</td><td>KK17</td><td>OSU_LBCSBF</td></tr>\n",
       "<tr><td>/Volumes/WD-EXFAT/Images/lbc-raw/lbcr.20191222.055915.fits</td><td>object</td><td>KK17</td><td>OSU_LBCSBF</td></tr>\n",
       "</table>"
      ],
      "text/plain": [
       "<Table length=500>\n",
       "                         filename                          ...    propid  \n",
       "                          str58                            ...    str13   \n",
       "---------------------------------------------------------- ... -----------\n",
       "/Volumes/WD-EXFAT/Images/lbc-raw/lbcr.20191221.063655.fits ... OSU_monitor\n",
       "/Volumes/WD-EXFAT/Images/lbc-raw/lbcr.20191221.064033.fits ... OSU_monitor\n",
       "/Volumes/WD-EXFAT/Images/lbc-raw/lbcr.20191221.064413.fits ... OSU_monitor\n",
       "/Volumes/WD-EXFAT/Images/lbc-raw/lbcr.20191221.070144.fits ... OSU_monitor\n",
       "/Volumes/WD-EXFAT/Images/lbc-raw/lbcr.20191221.070725.fits ... OSU_monitor\n",
       "/Volumes/WD-EXFAT/Images/lbc-raw/lbcb.20191220.003943.fits ...   flatcalib\n",
       "/Volumes/WD-EXFAT/Images/lbc-raw/lbcr.20191221.071305.fits ... OSU_monitor\n",
       "/Volumes/WD-EXFAT/Images/lbc-raw/lbcr.20191221.071846.fits ... OSU_monitor\n",
       "/Volumes/WD-EXFAT/Images/lbc-raw/lbcb.20191220.004029.fits ...   flatcalib\n",
       "/Volumes/WD-EXFAT/Images/lbc-raw/lbcr.20191221.073757.fits ... OSU_monitor\n",
       "                                                       ... ...         ...\n",
       "/Volumes/WD-EXFAT/Images/lbc-raw/lbcr.20191222.052542.fits ...  OSU_LBCSBF\n",
       "/Volumes/WD-EXFAT/Images/lbc-raw/lbcr.20191222.053122.fits ...  OSU_LBCSBF\n",
       "/Volumes/WD-EXFAT/Images/lbc-raw/lbcr.20191222.053239.fits ...  OSU_LBCSBF\n",
       "/Volumes/WD-EXFAT/Images/lbc-raw/lbcr.20191222.053819.fits ...  OSU_LBCSBF\n",
       "/Volumes/WD-EXFAT/Images/lbc-raw/lbcr.20191222.053944.fits ...  OSU_LBCSBF\n",
       "/Volumes/WD-EXFAT/Images/lbc-raw/lbcr.20191222.054522.fits ...  OSU_LBCSBF\n",
       "/Volumes/WD-EXFAT/Images/lbc-raw/lbcr.20191222.054641.fits ...  OSU_LBCSBF\n",
       "/Volumes/WD-EXFAT/Images/lbc-raw/lbcr.20191222.055221.fits ...  OSU_LBCSBF\n",
       "/Volumes/WD-EXFAT/Images/lbc-raw/lbcr.20191222.055336.fits ...  OSU_LBCSBF\n",
       "/Volumes/WD-EXFAT/Images/lbc-raw/lbcr.20191222.055915.fits ...  OSU_LBCSBF"
      ]
     },
     "execution_count": 49,
     "metadata": {},
     "output_type": "execute_result"
    }
   ],
   "source": [
    "file_info#[np.where(file_info['imagetyp']=='object')]"
   ]
  },
  {
   "cell_type": "code",
   "execution_count": 33,
   "metadata": {},
   "outputs": [
    {
     "name": "stdout",
     "output_type": "stream",
     "text": [
      "['lbcb.20191220.140452.fits']\n"
     ]
    }
   ],
   "source": [
    "#print(all_files.summary)\n",
    "biases = all_files.files_filtered(imagetyp='zero')\n",
    "print(biases)\n",
    "'''\n",
    "for ccd, filename in biases.ccds(imagetyp='zero',unit='adu',return_fname=True):\n",
    "    #ccd = ccdproc.subtract_overscan(ccd, overscan=ccd[:, 2055:], median=True)\n",
    "    print('hi')\n",
    "    # Trim the overscan\n",
    "    #ccd = ccdproc.trim_image(ccd[:, :2099])\n",
    "    \n",
    "    # Save the result\n",
    "    #ccd.write('/Users/casey.395/projects/LBCreduce/lbcred/test_out/midproc/testbias_T.fits')\n",
    "''';"
   ]
  },
  {
   "cell_type": "code",
   "execution_count": 41,
   "metadata": {},
   "outputs": [
    {
     "name": "stderr",
     "output_type": "stream",
     "text": [
      "INFO:astropy:first HDU with data is extension 1.\n"
     ]
    },
    {
     "name": "stdout",
     "output_type": "stream",
     "text": [
      "INFO: first HDU with data is extension 1. [astropy.nddata.ccddata]\n"
     ]
    }
   ],
   "source": [
    "data = CCDData.read('/Users/casey.395/projects/LBCreduce/lbcred/test_raw_ims/lbcb.20191220.140452.fits',unit='adu')\n",
    "data_o = ccdproc.subtract_overscan(data, overscan=data[:, 2098:], median=True)\n",
    "data_ot = ccdproc.trim_image(data_o[:, :2099])"
   ]
  },
  {
   "cell_type": "code",
   "execution_count": 52,
   "metadata": {},
   "outputs": [
    {
     "name": "stdout",
     "output_type": "stream",
     "text": [
      "[2099:2304,1:4608]\n",
      "2099 2304 1 4608\n"
     ]
    }
   ],
   "source": [
    "section = data.meta['BIASSEC']\n",
    "print(section)\n",
    "xmin = int(section.split('[')[1].split(':')[0])\n",
    "xmax = int(section.split(':')[1].split(',')[0])\n",
    "ymin = int(section.split(',')[1].split(':')[0])\n",
    "ymax = int(section.split(':')[-1].split(']')[0])\n",
    "print(xmin,xmax,ymin,ymax)"
   ]
  },
  {
   "cell_type": "code",
   "execution_count": 53,
   "metadata": {},
   "outputs": [
    {
     "data": {
      "text/plain": [
       "['[2099', '2304,1', '4608]']"
      ]
     },
     "execution_count": 53,
     "metadata": {},
     "output_type": "execute_result"
    }
   ],
   "source": [
    "section.split(':')"
   ]
  },
  {
   "cell_type": "code",
   "execution_count": 22,
   "metadata": {},
   "outputs": [
    {
     "data": {
      "text/plain": [
       "['zero', 'FOCUS', 'object', 'flat']"
      ]
     },
     "execution_count": 22,
     "metadata": {},
     "output_type": "execute_result"
    }
   ],
   "source": [
    "#keys = ['imagetyp','object','filter','propid']\n",
    "#collection = ccdproc.ImageFileCollection(lbc_raw, keywords=keys, ext=1)\n",
    "#sub_collection = collection.files_filtered(imagetyp='object',filter='B-BESSEL',object='*')\n",
    "all_files.values('imagetyp',unique=True)"
   ]
  },
  {
   "cell_type": "code",
   "execution_count": 1,
   "metadata": {},
   "outputs": [
    {
     "ename": "NameError",
     "evalue": "name 'collection' is not defined",
     "output_type": "error",
     "traceback": [
      "\u001b[0;31m---------------------------------------------------------------------------\u001b[0m",
      "\u001b[0;31mNameError\u001b[0m                                 Traceback (most recent call last)",
      "\u001b[0;32m<ipython-input-1-60d60cde4f69>\u001b[0m in \u001b[0;36m<module>\u001b[0;34m\u001b[0m\n\u001b[0;32m----> 1\u001b[0;31m \u001b[0mprint\u001b[0m\u001b[0;34m(\u001b[0m\u001b[0mcollection\u001b[0m\u001b[0;34m.\u001b[0m\u001b[0msummary\u001b[0m\u001b[0;34m)\u001b[0m\u001b[0;34m\u001b[0m\u001b[0;34m\u001b[0m\u001b[0m\n\u001b[0m",
      "\u001b[0;31mNameError\u001b[0m: name 'collection' is not defined"
     ]
    }
   ],
   "source": [
    "print(collection.summary)"
   ]
  },
  {
   "cell_type": "code",
   "execution_count": 21,
   "metadata": {},
   "outputs": [
    {
     "name": "stdout",
     "output_type": "stream",
     "text": [
      "Options\n",
      "-------\n",
      "\n",
      "imtype: ['object']\n",
      "\n",
      "objectname: ['M81blob']\n",
      "\n",
      "filt: ['B-BESSEL', 'R-BESSEL']\n"
     ]
    }
   ],
   "source": [
    "imtype='*'\n",
    "objectname='M81blob'\n",
    "filt='*'\n",
    "\n",
    "images = collection.filter(imagetyp=imtype, object=objectname, filter=filt)\n",
    "options = {}\n",
    "options['imtype'] = images.values('imagetyp', unique=True)\n",
    "options['objectname'] = images.values('object', unique=True)\n",
    "options['filt'] = images.values('filter', unique=True)\n",
    "print('Options','-------',sep='\\n')\n",
    "print('\\n','imtype: ', options['imtype'],sep='')\n",
    "print('\\n','objectname: ', options['objectname'], sep='')\n",
    "print('\\n', 'filt: ', options['filt'], sep='')"
   ]
  },
  {
   "cell_type": "code",
   "execution_count": 7,
   "metadata": {},
   "outputs": [],
   "source": [
    "images = image.get_images('/Volumes/WD-EXFAT/Images/lbc-raw/', objectname='KK17', filt='R-BESSEL');"
   ]
  },
  {
   "cell_type": "code",
   "execution_count": 25,
   "metadata": {},
   "outputs": [
    {
     "data": {
      "text/plain": [
       "16"
      ]
     },
     "execution_count": 25,
     "metadata": {},
     "output_type": "execute_result"
    }
   ],
   "source": [
    "len(images.summary)"
   ]
  },
  {
   "cell_type": "code",
   "execution_count": 47,
   "metadata": {},
   "outputs": [
    {
     "ename": "AttributeError",
     "evalue": "'numpy.ndarray' object has no attribute 'stddev'",
     "output_type": "error",
     "traceback": [
      "\u001b[0;31m---------------------------------------------------------------------------\u001b[0m",
      "\u001b[0;31mAttributeError\u001b[0m                            Traceback (most recent call last)",
      "\u001b[0;32m<ipython-input-47-21d1f4278a98>\u001b[0m in \u001b[0;36m<module>\u001b[0;34m\u001b[0m\n\u001b[1;32m      3\u001b[0m     \u001b[0mmean\u001b[0m \u001b[0;34m=\u001b[0m \u001b[0mstats\u001b[0m\u001b[0;34m.\u001b[0m\u001b[0msigma_clip\u001b[0m\u001b[0;34m(\u001b[0m\u001b[0mim\u001b[0m\u001b[0;34m,\u001b[0m \u001b[0msigma\u001b[0m\u001b[0;34m=\u001b[0m\u001b[0;36m3\u001b[0m\u001b[0;34m,\u001b[0m \u001b[0mmaxiters\u001b[0m\u001b[0;34m=\u001b[0m\u001b[0;36m3\u001b[0m\u001b[0;34m)\u001b[0m\u001b[0;34m.\u001b[0m\u001b[0mmean\u001b[0m\u001b[0;34m(\u001b[0m\u001b[0;34m)\u001b[0m\u001b[0;34m\u001b[0m\u001b[0;34m\u001b[0m\u001b[0m\n\u001b[1;32m      4\u001b[0m     \u001b[0mmeans1\u001b[0m\u001b[0;34m.\u001b[0m\u001b[0mappend\u001b[0m\u001b[0;34m(\u001b[0m\u001b[0mmean\u001b[0m\u001b[0;34m)\u001b[0m\u001b[0;34m\u001b[0m\u001b[0;34m\u001b[0m\u001b[0m\n\u001b[0;32m----> 5\u001b[0;31m     \u001b[0mprint\u001b[0m\u001b[0;34m(\u001b[0m\u001b[0mim\u001b[0m\u001b[0;34m.\u001b[0m\u001b[0mstddev\u001b[0m\u001b[0;34m)\u001b[0m\u001b[0;34m\u001b[0m\u001b[0;34m\u001b[0m\u001b[0m\n\u001b[0m",
      "\u001b[0;31mAttributeError\u001b[0m: 'numpy.ndarray' object has no attribute 'stddev'"
     ]
    }
   ],
   "source": [
    "means1 = []\n",
    "for im in images.data():\n",
    "    mean = stats.sigma_clip(im, sigma=3, maxiters=3).mean()\n",
    "    means1.append(mean)\n",
    "    print(im.stddev)"
   ]
  },
  {
   "cell_type": "code",
   "execution_count": 45,
   "metadata": {},
   "outputs": [],
   "source": [
    "means2 = []\n",
    "for im in images.data():\n",
    "    mean = im.mean()\n",
    "    means2.append(mean)"
   ]
  },
  {
   "cell_type": "code",
   "execution_count": 46,
   "metadata": {},
   "outputs": [
    {
     "data": {
      "text/plain": [
       "array([1168.52664821,  120.7718156 , 1150.65100414,   96.80109063,\n",
       "       1166.52538484,  112.80384252, 1188.94975444,  125.10706768,\n",
       "       1272.26788388,  126.78458644, 1234.15903583,  124.62784779,\n",
       "       1253.6869325 ,  117.28858983, 1159.0992192 ,  111.17959801])"
      ]
     },
     "execution_count": 46,
     "metadata": {},
     "output_type": "execute_result"
    }
   ],
   "source": [
    "np.asarray(means1)-np.asarray(means2)"
   ]
  },
  {
   "cell_type": "code",
   "execution_count": 19,
   "metadata": {},
   "outputs": [],
   "source": [
    "i=0\n",
    "for im in images.data():\n",
    "    if i==0:\n",
    "        clipped = stats.sigma_clip(im,sigma=5, cenfunc='median', stdfunc=stats.mad_std)\n",
    "        im0 = im\n",
    "    i+=1"
   ]
  },
  {
   "cell_type": "code",
   "execution_count": 24,
   "metadata": {},
   "outputs": [
    {
     "data": {
      "text/plain": [
       "278.13776542352724"
      ]
     },
     "execution_count": 24,
     "metadata": {},
     "output_type": "execute_result"
    }
   ],
   "source": [
    "clipped.std()"
   ]
  },
  {
   "cell_type": "code",
   "execution_count": 38,
   "metadata": {},
   "outputs": [
    {
     "data": {
      "image/png": "[encoded data removed]",
      "text/plain": [
       "<Figure size 432x288 with 1 Axes>"
      ]
     },
     "metadata": {
      "needs_background": "light"
     },
     "output_type": "display_data"
    }
   ],
   "source": [
    "clipped_nonan = clipped[~np.isnan(clipped)]\n",
    "plt.hist(np.ndarray.flatten(im0),density=True,bins=1000,alpha=0.5,label='no clipping')\n",
    "plt.hist(np.ndarray.flatten(clipped_nonan),density=True,bins=100,alpha=0.5,label='with clipping')\n",
    "plt.xlim(9900,13000)\n",
    "plt.legend()\n",
    "plt.show()"
   ]
  },
  {
   "cell_type": "code",
   "execution_count": null,
   "metadata": {},
   "outputs": [],
   "source": [
    "def get_images(directory, imtype='*', objectname='*', filt='*', display_options=False):\n",
    "\t'''\n",
    "\tThis function returns a list of images given input parameters specifying the type of images needed.\n",
    "\n",
    "\tParameters\n",
    "\t----------\n",
    "\tdirectory : str\n",
    "\t\tThe directory in which getImages should look for .fits files.\n",
    "\n",
    "\timtype : str\n",
    "\t\tThe IMAGETYP keyword in the header of the .fits files to be returned. Used to indicate whether\n",
    "\t\tthe returned images should be flats, biases, objects, etc.\n",
    "\n",
    "\tobjectname : str\n",
    "\t\tThe OBJECT keyword in the header of the .fits files to be returned. Used to indicate which\n",
    "\t\ttarget (eg. UGC1171, NGC628, etc.) is desired.\n",
    "\n",
    "\tfilt : str\n",
    "\t\tThe FILTER keyword in the header of the .fits files to be returned. Used to indicate which\n",
    "\t\ttelescope filter (eg. B-BESSEL, R-BESSEL, etc.) is desired.\n",
    "\n",
    "\tdisplay_options : bool\n",
    "\t\tIf True, get_images will not return a list of images but will instead return a dict of available\n",
    "\t\toptions for each other input parameter (imtype, objectname, redlevel) based on the contents of\n",
    "\t\tthe .fits headers in the given directory.\n",
    "\n",
    "\tReturns\n",
    "\t-------\n",
    "\tImageFileCollection (when display_options == False)\n",
    "\t\tReturns an ImageFileCollection object containing information about images consistent with the input parameters\n",
    "\n",
    "\t'''\n",
    "\n",
    "\tpath = Path(directory)\n",
    "\tkeys = ['imagetyp','object','filter','propid','exptime']\n",
    "\tall_images = ImageFileCollection(path, keywords=keys)\n",
    "\n",
    "\ttry:\n",
    "\t\timages = all_images.filter(imagetyp=imtype, object=objectname, filter=filt)\n",
    "\texcept FileNotFoundError:\n",
    "\t\tprint('No images match the given options.')\n",
    "\t\treturn\n",
    "\n",
    "\tif display_options:\n",
    "\t\toptions = {}\n",
    "\n",
    "\t\toptions['imtype'] = images.values('imagetyp', unique=True)\n",
    "\t\toptions['objectname'] = images.values('object', unique=True)\n",
    "\t\toptions['filt'] = images.values('filter', unique=True)\n",
    "\n",
    "\t\tprint('Options','-------',sep='\\n')\n",
    "\t\tprint('\\n','imtype:', options['imtype'], sep='')\n",
    "\t\tprint('\\n', 'objectname:', options['objectname'], sep='')\n",
    "\t\tprint('\\n', 'filt:', options['filt'], sep='')\n",
    "\n",
    "\telse:\n",
    "\n",
    "\t\timages = all_images.filter(imagetyp=imtype, object=objectname, filter=filt)\n",
    "\n",
    "\t\treturn images"
   ]
  },
  {
   "cell_type": "code",
   "execution_count": 10,
   "metadata": {},
   "outputs": [
    {
     "data": {
      "text/plain": [
       "'./../lbcreduce_2020-02-19_18:15:47'"
      ]
     },
     "execution_count": 10,
     "metadata": {},
     "output_type": "execute_result"
    }
   ],
   "source": [
    "image_dir = './'\n",
    "datetime = time.strftime('%Y-%m-%d_%H:%M:%S',time.gmtime())\n",
    "out_dir_default = image_dir + f'../lbcreduce_{datetime}'\n",
    "out_dir_default"
   ]
  },
  {
   "cell_type": "code",
   "execution_count": 29,
   "metadata": {},
   "outputs": [
    {
     "data": {
      "text/plain": [
       "True"
      ]
     },
     "execution_count": 29,
     "metadata": {},
     "output_type": "execute_result"
    }
   ],
   "source": [
    "os.path.isdir('test')"
   ]
  },
  {
   "cell_type": "code",
   "execution_count": 32,
   "metadata": {},
   "outputs": [
    {
     "data": {
      "text/plain": [
       "False"
      ]
     },
     "execution_count": 32,
     "metadata": {},
     "output_type": "execute_result"
    }
   ],
   "source": [
    "dir_exists = True\n",
    "overwrite = True\n",
    "\n",
    "dir_exists and not overwrite"
   ]
  },
  {
   "cell_type": "code",
   "execution_count": 55,
   "metadata": {},
   "outputs": [],
   "source": [
    "import sys\n",
    "def more_stuff():\n",
    "    sys.exit('Program ended')\n",
    "    \n",
    "def do_stuff(num):\n",
    "    if num == 0:\n",
    "        more_stuff()\n",
    "    else:\n",
    "        print('Hi')\n",
    "    print('agian')"
   ]
  },
  {
   "cell_type": "code",
   "execution_count": 56,
   "metadata": {},
   "outputs": [
    {
     "ename": "SystemExit",
     "evalue": "Program ended",
     "output_type": "error",
     "traceback": [
      "An exception has occurred, use %tb to see the full traceback.\n",
      "\u001b[0;31mSystemExit\u001b[0m\u001b[0;31m:\u001b[0m Program ended\n"
     ]
    }
   ],
   "source": [
    "do_stuff(0)"
   ]
  },
  {
   "cell_type": "markdown",
   "metadata": {},
   "source": [
    "# Test\n",
    "try `python` today!\n",
    "\n",
    "# Test1\n",
    "\n",
    "Link to [Test](#Test)"
   ]
  },
  {
   "cell_type": "code",
   "execution_count": 3,
   "metadata": {},
   "outputs": [
    {
     "data": {
      "text/plain": [
       "'/Users/kirstencasey/projects/LBCreduce/notebooks'"
      ]
     },
     "execution_count": 3,
     "metadata": {},
     "output_type": "execute_result"
    }
   ],
   "source": [
    "image_dir = '../lbcred/'\n",
    "#os.chdir(image_dir)\n",
    "os.path.abspath(image_dir+'../notebooks')"
   ]
  },
  {
   "cell_type": "code",
   "execution_count": 14,
   "metadata": {},
   "outputs": [
    {
     "data": {
      "text/plain": [
       "False"
      ]
     },
     "execution_count": 14,
     "metadata": {},
     "output_type": "execute_result"
    }
   ],
   "source": [
    "li = ['y', 'Y', 'yes']\n",
    "'Yes' in li"
   ]
  },
  {
   "cell_type": "code",
   "execution_count": 24,
   "metadata": {},
   "outputs": [
    {
     "data": {
      "text/plain": [
       "['y', 'Y', 'yes', 'no', 'No']"
      ]
     },
     "execution_count": 24,
     "metadata": {},
     "output_type": "execute_result"
    }
   ],
   "source": [
    "li2 = ['no','No']\n",
    "li3 = []\n",
    "li4 = li + li2 + li3 \n",
    "li4"
   ]
  },
  {
   "cell_type": "code",
   "execution_count": 1,
   "metadata": {},
   "outputs": [],
   "source": [
    "import yaml"
   ]
  },
  {
   "cell_type": "code",
   "execution_count": 80,
   "metadata": {},
   "outputs": [],
   "source": [
    "proc_info = get_image_info(config,'/Volumes/WD-EXFAT/Images/lbc-proc/')"
   ]
  },
  {
   "cell_type": "code",
   "execution_count": 84,
   "metadata": {},
   "outputs": [],
   "source": [
    "blob = proc_info['filename'][np.where(proc_info['object']=='M81blob')]"
   ]
  },
  {
   "cell_type": "code",
   "execution_count": 87,
   "metadata": {},
   "outputs": [
    {
     "data": {
      "text/plain": [
       "array(['/Volumes/WD-EXFAT/Images/lbc-proc/lbcb.20191220.071505.proc.fits',\n",
       "       '/Volumes/WD-EXFAT/Images/lbc-proc/lbcb.20191220.072050.proc.fits',\n",
       "       '/Volumes/WD-EXFAT/Images/lbc-proc/lbcb.20191220.072201.proc.fits',\n",
       "       '/Volumes/WD-EXFAT/Images/lbc-proc/lbcb.20191220.072748.proc.fits',\n",
       "       '/Volumes/WD-EXFAT/Images/lbc-proc/lbcb.20191220.073931.proc.fits',\n",
       "       '/Volumes/WD-EXFAT/Images/lbc-proc/lbcb.20191220.074517.proc.fits',\n",
       "       '/Volumes/WD-EXFAT/Images/lbc-proc/lbcb.20191220.074630.proc.fits',\n",
       "       '/Volumes/WD-EXFAT/Images/lbc-proc/lbcb.20191220.075217.proc.fits',\n",
       "       '/Volumes/WD-EXFAT/Images/lbc-proc/lbcb.20191220.075327.proc.fits',\n",
       "       '/Volumes/WD-EXFAT/Images/lbc-proc/lbcb.20191220.075908.proc.fits',\n",
       "       '/Volumes/WD-EXFAT/Images/lbc-proc/lbcb.20191220.080018.proc.fits',\n",
       "       '/Volumes/WD-EXFAT/Images/lbc-proc/lbcb.20191220.080605.proc.fits',\n",
       "       '/Volumes/WD-EXFAT/Images/lbc-proc/lbcb.20191220.080715.proc.fits',\n",
       "       '/Volumes/WD-EXFAT/Images/lbc-proc/lbcb.20191220.081303.proc.fits',\n",
       "       '/Volumes/WD-EXFAT/Images/lbc-proc/lbcb.20191220.081414.proc.fits',\n",
       "       '/Volumes/WD-EXFAT/Images/lbc-proc/lbcb.20191220.082001.proc.fits',\n",
       "       '/Volumes/WD-EXFAT/Images/lbc-proc/lbcb.20191220.082111.proc.fits',\n",
       "       '/Volumes/WD-EXFAT/Images/lbc-proc/lbcb.20191220.082658.proc.fits',\n",
       "       '/Volumes/WD-EXFAT/Images/lbc-proc/lbcb.20191220.082810.proc.fits',\n",
       "       '/Volumes/WD-EXFAT/Images/lbc-proc/lbcb.20191220.083356.proc.fits',\n",
       "       '/Volumes/WD-EXFAT/Images/lbc-proc/lbcr.20191220.071459.proc.fits',\n",
       "       '/Volumes/WD-EXFAT/Images/lbc-proc/lbcr.20191220.072038.proc.fits',\n",
       "       '/Volumes/WD-EXFAT/Images/lbc-proc/lbcr.20191220.072156.proc.fits',\n",
       "       '/Volumes/WD-EXFAT/Images/lbc-proc/lbcr.20191220.072737.proc.fits',\n",
       "       '/Volumes/WD-EXFAT/Images/lbc-proc/lbcr.20191220.073926.proc.fits',\n",
       "       '/Volumes/WD-EXFAT/Images/lbc-proc/lbcr.20191220.074504.proc.fits',\n",
       "       '/Volumes/WD-EXFAT/Images/lbc-proc/lbcr.20191220.074623.proc.fits',\n",
       "       '/Volumes/WD-EXFAT/Images/lbc-proc/lbcr.20191220.075203.proc.fits',\n",
       "       '/Volumes/WD-EXFAT/Images/lbc-proc/lbcr.20191220.075324.proc.fits',\n",
       "       '/Volumes/WD-EXFAT/Images/lbc-proc/lbcr.20191220.075857.proc.fits',\n",
       "       '/Volumes/WD-EXFAT/Images/lbc-proc/lbcr.20191220.080015.proc.fits',\n",
       "       '/Volumes/WD-EXFAT/Images/lbc-proc/lbcr.20191220.080557.proc.fits',\n",
       "       '/Volumes/WD-EXFAT/Images/lbc-proc/lbcr.20191220.080711.proc.fits',\n",
       "       '/Volumes/WD-EXFAT/Images/lbc-proc/lbcr.20191220.081253.proc.fits',\n",
       "       '/Volumes/WD-EXFAT/Images/lbc-proc/lbcr.20191220.081411.proc.fits',\n",
       "       '/Volumes/WD-EXFAT/Images/lbc-proc/lbcr.20191220.081951.proc.fits',\n",
       "       '/Volumes/WD-EXFAT/Images/lbc-proc/lbcr.20191220.082106.proc.fits',\n",
       "       '/Volumes/WD-EXFAT/Images/lbc-proc/lbcr.20191220.082645.proc.fits',\n",
       "       '/Volumes/WD-EXFAT/Images/lbc-proc/lbcr.20191220.082803.proc.fits',\n",
       "       '/Volumes/WD-EXFAT/Images/lbc-proc/lbcr.20191220.083345.proc.fits'],\n",
       "      dtype='<U64')"
      ]
     },
     "execution_count": 87,
     "metadata": {},
     "output_type": "execute_result"
    }
   ],
   "source": [
    "blob = np.asarray(blob)\n",
    "blob"
   ]
  },
  {
   "cell_type": "code",
   "execution_count": 91,
   "metadata": {},
   "outputs": [],
   "source": [
    "ind = 0\n",
    "for fi in blob:\n",
    "    blob1[ind] = fi.split('/')[-1]\n",
    "    ind += 1"
   ]
  },
  {
   "cell_type": "code",
   "execution_count": 92,
   "metadata": {},
   "outputs": [
    {
     "data": {
      "text/plain": [
       "array(['lbcb.20191220.071505.proc.fits', 'lbcb.20191220.072050.proc.fits',\n",
       "       'lbcb.20191220.072201.proc.fits', 'lbcb.20191220.072748.proc.fits',\n",
       "       'lbcb.20191220.073931.proc.fits', 'lbcb.20191220.074517.proc.fits',\n",
       "       'lbcb.20191220.074630.proc.fits', 'lbcb.20191220.075217.proc.fits',\n",
       "       'lbcb.20191220.075327.proc.fits', 'lbcb.20191220.075908.proc.fits',\n",
       "       'lbcb.20191220.080018.proc.fits', 'lbcb.20191220.080605.proc.fits',\n",
       "       'lbcb.20191220.080715.proc.fits', 'lbcb.20191220.081303.proc.fits',\n",
       "       'lbcb.20191220.081414.proc.fits', 'lbcb.20191220.082001.proc.fits',\n",
       "       'lbcb.20191220.082111.proc.fits', 'lbcb.20191220.082658.proc.fits',\n",
       "       'lbcb.20191220.082810.proc.fits', 'lbcb.20191220.083356.proc.fits',\n",
       "       'lbcr.20191220.071459.proc.fits', 'lbcr.20191220.072038.proc.fits',\n",
       "       'lbcr.20191220.072156.proc.fits', 'lbcr.20191220.072737.proc.fits',\n",
       "       'lbcr.20191220.073926.proc.fits', 'lbcr.20191220.074504.proc.fits',\n",
       "       'lbcr.20191220.074623.proc.fits', 'lbcr.20191220.075203.proc.fits',\n",
       "       'lbcr.20191220.075324.proc.fits', 'lbcr.20191220.075857.proc.fits',\n",
       "       'lbcr.20191220.080015.proc.fits', 'lbcr.20191220.080557.proc.fits',\n",
       "       'lbcr.20191220.080711.proc.fits', 'lbcr.20191220.081253.proc.fits',\n",
       "       'lbcr.20191220.081411.proc.fits', 'lbcr.20191220.081951.proc.fits',\n",
       "       'lbcr.20191220.082106.proc.fits', 'lbcr.20191220.082645.proc.fits',\n",
       "       'lbcr.20191220.082803.proc.fits', 'lbcr.20191220.083345.proc.fits'],\n",
       "      dtype='<U64')"
      ]
     },
     "execution_count": 92,
     "metadata": {},
     "output_type": "execute_result"
    }
   ],
   "source": [
    "blob1"
   ]
  },
  {
   "cell_type": "code",
   "execution_count": 94,
   "metadata": {},
   "outputs": [],
   "source": [
    "np.savetxt('/Users/kirstencasey/blob.txt', blob, delimiter=\" \", fmt=\"%s\") "
   ]
  },
  {
   "cell_type": "code",
   "execution_count": 104,
   "metadata": {},
   "outputs": [],
   "source": [
    "file_info = get_image_info(config,'/Volumes/WD-EXFAT/Images/lbc-raw/')\n",
    "flat_info = file_info[np.where(file_info['imagetyp']=='flat')]\n",
    "object_info = file_info[np.where(file_info['imagetyp']=='object')]\n",
    "bias_info = file_info[np.where(file_info['imagetyp']=='zero')]"
   ]
  },
  {
   "cell_type": "code",
   "execution_count": 101,
   "metadata": {},
   "outputs": [
    {
     "data": {
      "text/plain": [
       "[]"
      ]
     },
     "execution_count": 101,
     "metadata": {},
     "output_type": "execute_result"
    }
   ],
   "source": [
    "bias1 = []\n",
    "for bias in bias_info:\n",
    "    if '20191221' in bias['filename']:\n",
    "        bias1.append(bias['filename'])\n",
    "\n",
    "'''\n",
    "for i in range(len(flats1)):\n",
    "    shutil.copyfile(flats1[i], '/Users/kirstencasey/test_raw_ims/'+flats1[i].split('/')[-1])\n",
    "    #shutil.copyfile(udgr[i], '/Users/kirstencasey/test_raw_ims/'+udgr[i].split('/')[-1])\n",
    "'''\n",
    "bias1"
   ]
  },
  {
   "cell_type": "code",
   "execution_count": 103,
   "metadata": {},
   "outputs": [
    {
     "data": {
      "text/html": [
       "<i>Table length=0</i>\n",
       "<table id=\"table47824594960\" class=\"table-striped table-bordered table-condensed\">\n",
       "<thead><tr><th>filename</th><th>imagetyp</th><th>object</th><th>propid</th></tr></thead>\n",
       "<thead><tr><th>str57</th><th>str6</th><th>str13</th><th>str13</th></tr></thead>\n",
       "</table>"
      ],
      "text/plain": [
       "<Table length=0>\n",
       "filename imagetyp object propid\n",
       " str57     str6   str13  str13 \n",
       "-------- -------- ------ ------"
      ]
     },
     "execution_count": 103,
     "metadata": {},
     "output_type": "execute_result"
    }
   ],
   "source": [
    "bias_info"
   ]
  },
  {
   "cell_type": "code",
   "execution_count": 66,
   "metadata": {},
   "outputs": [],
   "source": [
    "for obj in object_info:\n",
    "    if obj['propid'] == 'OSU_monitor':\n",
    "        os.remove(obj['filename'])"
   ]
  },
  {
   "cell_type": "code",
   "execution_count": 105,
   "metadata": {},
   "outputs": [],
   "source": [
    "file_info1 = get_image_info(config,'/Users/kirstencasey/test_raw_ims/')\n"
   ]
  },
  {
   "cell_type": "code",
   "execution_count": 35,
   "metadata": {},
   "outputs": [],
   "source": [
    "raw = glob.glob('/Volumes/WD-EXFAT/Images/lbc-raw/*20191221*.fits')\n",
    "\n",
    "for i in range(len(raw)):\n",
    "    raw[i] = raw[i].split('/')[-1]\n"
   ]
  },
  {
   "cell_type": "code",
   "execution_count": 42,
   "metadata": {},
   "outputs": [],
   "source": [
    "for fi in file_info['filename']:\n",
    "    if fi not in raw:\n",
    "        shutil.copyfile(fi, '/Volumes/WD-EXFAT/Images/lbc-raw/'+fi.split('/')[-1])"
   ]
  },
  {
   "cell_type": "code",
   "execution_count": 46,
   "metadata": {},
   "outputs": [
    {
     "data": {
      "text/plain": [
       "93"
      ]
     },
     "execution_count": 46,
     "metadata": {},
     "output_type": "execute_result"
    }
   ],
   "source": [
    "len(file_info)"
   ]
  },
  {
   "cell_type": "code",
   "execution_count": 1,
   "metadata": {},
   "outputs": [],
   "source": [
    "counts = [269615317178, 285562142522, 151777108063, 240640997182, 238607489334,\n",
    " 130041821342,  79685917652, 121705019274, 252548243030, 107645683789,\n",
    " 241404780286, 325408104563, 128467845285, 175578371396, 190166925212,\n",
    " 142309969092] "
   ]
  },
  {
   "cell_type": "code",
   "execution_count": 11,
   "metadata": {},
   "outputs": [],
   "source": [
    "clipped_counts = stats.sigma_clip(counts,**config['sigma_clip_flats_options'])"
   ]
  },
  {
   "cell_type": "code",
   "execution_count": 10,
   "metadata": {},
   "outputs": [
    {
     "name": "stdout",
     "output_type": "stream",
     "text": [
      "<class 'dict'>\n"
     ]
    }
   ],
   "source": [
    "print(type(config['sigma_clip_flats_options']))"
   ]
  },
  {
   "cell_type": "code",
   "execution_count": 14,
   "metadata": {},
   "outputs": [
    {
     "data": {
      "text/plain": [
       "array([], dtype=int64)"
      ]
     },
     "execution_count": 14,
     "metadata": {},
     "output_type": "execute_result"
    }
   ],
   "source": [
    "counts = np.asarray(counts)\n",
    "counts[clipped_counts.mask]"
   ]
  },
  {
   "cell_type": "code",
   "execution_count": 15,
   "metadata": {},
   "outputs": [
    {
     "name": "stdout",
     "output_type": "stream",
     "text": [
      "[ True  True  True  True  True  True  True  True  True  True  True  True\n",
      "  True  True  True  True]\n"
     ]
    }
   ],
   "source": [
    "print(~clipped_counts.mask)"
   ]
  },
  {
   "cell_type": "code",
   "execution_count": 16,
   "metadata": {},
   "outputs": [],
   "source": [
    "flats = file_info[np.where(file_info['imagetyp']=='flat')]\n",
    "copythese = np.asarray(flats['filename'][np.where(flats['filter']=='B-BESSEL')])"
   ]
  },
  {
   "cell_type": "code",
   "execution_count": 18,
   "metadata": {},
   "outputs": [],
   "source": [
    "for fi in copythese:\n",
    "    shutil.copyfile('/Users/kirstencasey/test_raw_ims/'+ fi, '/Users/kirstencasey/Box/Research/LBT/'+fi)"
   ]
  },
  {
   "cell_type": "code",
   "execution_count": 20,
   "metadata": {},
   "outputs": [
    {
     "data": {
      "text/html": [
       "<i>Table length=32</i>\n",
       "<table id=\"table47610213840\" class=\"table-striped table-bordered table-condensed\">\n",
       "<thead><tr><th>filename</th><th>imagetyp</th><th>object</th><th>propid</th><th>filter</th><th>instrument</th></tr></thead>\n",
       "<thead><tr><th>str25</th><th>str6</th><th>str9</th><th>str13</th><th>str8</th><th>str8</th></tr></thead>\n",
       "<tr><td>lbcr.20191221.133231.fits</td><td>flat</td><td>SkyFlat</td><td>flatcalib</td><td>R-BESSEL</td><td>LBC-RED</td></tr>\n",
       "<tr><td>lbcb.20191221.132846.fits</td><td>flat</td><td>SkyFlat</td><td>flatcalib</td><td>B-BESSEL</td><td>LBC_BLUE</td></tr>\n",
       "<tr><td>lbcb.20191221.132743.fits</td><td>flat</td><td>SkyFlat</td><td>flatcalib</td><td>B-BESSEL</td><td>LBC_BLUE</td></tr>\n",
       "<tr><td>lbcb.20191221.133133.fits</td><td>flat</td><td>SkyFlat</td><td>flatcalib</td><td>B-BESSEL</td><td>LBC_BLUE</td></tr>\n",
       "<tr><td>lbcr.20191221.132944.fits</td><td>flat</td><td>SkyFlat</td><td>flatcalib</td><td>R-BESSEL</td><td>LBC-RED</td></tr>\n",
       "<tr><td>lbcr.20191220.004654.fits</td><td>flat</td><td>SkyFlat</td><td>flatcalib</td><td>R-BESSEL</td><td>LBC-RED</td></tr>\n",
       "<tr><td>lbcr.20191220.003938.fits</td><td>flat</td><td>SkyFlat</td><td>flatcalib</td><td>F972N20</td><td>LBC-RED</td></tr>\n",
       "<tr><td>lbcb.20191220.004910.fits</td><td>flat</td><td>SkyFlat</td><td>flatcalib</td><td>B-BESSEL</td><td>LBC_BLUE</td></tr>\n",
       "<tr><td>lbcb.20191220.003943.fits</td><td>flat</td><td>SkyFlat</td><td>flatcalib</td><td>SDT_Uspe</td><td>LBC_BLUE</td></tr>\n",
       "<tr><td>lbcb.20191221.132948.fits</td><td>flat</td><td>SkyFlat</td><td>flatcalib</td><td>B-BESSEL</td><td>LBC_BLUE</td></tr>\n",
       "<tr><td>...</td><td>...</td><td>...</td><td>...</td><td>...</td><td>...</td></tr>\n",
       "<tr><td>lbcb.20191221.134034.fits</td><td>flat</td><td>SkyFlat</td><td>flatcalib</td><td>B-BESSEL</td><td>LBC_BLUE</td></tr>\n",
       "<tr><td>lbcb.20191220.004744.fits</td><td>flat</td><td>SkyFlat</td><td>flatcalib</td><td>B-BESSEL</td><td>LBC_BLUE</td></tr>\n",
       "<tr><td>lbcr.20191221.133741.fits</td><td>flat</td><td>SkyFlat</td><td>flatcalib</td><td>R-BESSEL</td><td>LBC-RED</td></tr>\n",
       "<tr><td>lbcr.20191220.004610.fits</td><td>flat</td><td>SkyFlat</td><td>flatcalib</td><td>R-BESSEL</td><td>LBC-RED</td></tr>\n",
       "<tr><td>lbcb.20191221.133654.fits</td><td>flat</td><td>SkyFlat</td><td>flatcalib</td><td>B-BESSEL</td><td>LBC_BLUE</td></tr>\n",
       "<tr><td>lbcb.20191221.133747.fits</td><td>flat</td><td>SkyFlat</td><td>flatcalib</td><td>B-BESSEL</td><td>LBC_BLUE</td></tr>\n",
       "<tr><td>lbcb.20191221.133234.fits</td><td>flat</td><td>SkyFlat</td><td>flatcalib</td><td>B-BESSEL</td><td>LBC_BLUE</td></tr>\n",
       "<tr><td>lbcr.20191220.004821.fits</td><td>flat</td><td>SkyFlat</td><td>flatcalib</td><td>R-BESSEL</td><td>LBC-RED</td></tr>\n",
       "<tr><td>lbcr.20191221.132842.fits</td><td>flat</td><td>SkyFlat</td><td>flatcalib</td><td>R-BESSEL</td><td>LBC-RED</td></tr>\n",
       "<tr><td>lbcr.20191221.133834.fits</td><td>flat</td><td>SkyFlat</td><td>flatcalib</td><td>R-BESSEL</td><td>LBC-RED</td></tr>\n",
       "</table>"
      ],
      "text/plain": [
       "<Table length=32>\n",
       "         filename         imagetyp  object   propid   filter  instrument\n",
       "          str25             str6     str9    str13     str8      str8   \n",
       "------------------------- -------- ------- --------- -------- ----------\n",
       "lbcr.20191221.133231.fits     flat SkyFlat flatcalib R-BESSEL    LBC-RED\n",
       "lbcb.20191221.132846.fits     flat SkyFlat flatcalib B-BESSEL   LBC_BLUE\n",
       "lbcb.20191221.132743.fits     flat SkyFlat flatcalib B-BESSEL   LBC_BLUE\n",
       "lbcb.20191221.133133.fits     flat SkyFlat flatcalib B-BESSEL   LBC_BLUE\n",
       "lbcr.20191221.132944.fits     flat SkyFlat flatcalib R-BESSEL    LBC-RED\n",
       "lbcr.20191220.004654.fits     flat SkyFlat flatcalib R-BESSEL    LBC-RED\n",
       "lbcr.20191220.003938.fits     flat SkyFlat flatcalib  F972N20    LBC-RED\n",
       "lbcb.20191220.004910.fits     flat SkyFlat flatcalib B-BESSEL   LBC_BLUE\n",
       "lbcb.20191220.003943.fits     flat SkyFlat flatcalib SDT_Uspe   LBC_BLUE\n",
       "lbcb.20191221.132948.fits     flat SkyFlat flatcalib B-BESSEL   LBC_BLUE\n",
       "                      ...      ...     ...       ...      ...        ...\n",
       "lbcb.20191221.134034.fits     flat SkyFlat flatcalib B-BESSEL   LBC_BLUE\n",
       "lbcb.20191220.004744.fits     flat SkyFlat flatcalib B-BESSEL   LBC_BLUE\n",
       "lbcr.20191221.133741.fits     flat SkyFlat flatcalib R-BESSEL    LBC-RED\n",
       "lbcr.20191220.004610.fits     flat SkyFlat flatcalib R-BESSEL    LBC-RED\n",
       "lbcb.20191221.133654.fits     flat SkyFlat flatcalib B-BESSEL   LBC_BLUE\n",
       "lbcb.20191221.133747.fits     flat SkyFlat flatcalib B-BESSEL   LBC_BLUE\n",
       "lbcb.20191221.133234.fits     flat SkyFlat flatcalib B-BESSEL   LBC_BLUE\n",
       "lbcr.20191220.004821.fits     flat SkyFlat flatcalib R-BESSEL    LBC-RED\n",
       "lbcr.20191221.132842.fits     flat SkyFlat flatcalib R-BESSEL    LBC-RED\n",
       "lbcr.20191221.133834.fits     flat SkyFlat flatcalib R-BESSEL    LBC-RED"
      ]
     },
     "execution_count": 20,
     "metadata": {},
     "output_type": "execute_result"
    }
   ],
   "source": [
    "flats"
   ]
  },
  {
   "cell_type": "code",
   "execution_count": null,
   "metadata": {},
   "outputs": [],
   "source": []
  }
 ],
 "metadata": {
  "kernelspec": {
   "display_name": "Python 3",
   "language": "python",
   "name": "python3"
  },
  "language_info": {
   "codemirror_mode": {
    "name": "ipython",
    "version": 3
   },
   "file_extension": ".py",
   "mimetype": "text/x-python",
   "name": "python",
   "nbconvert_exporter": "python",
   "pygments_lexer": "ipython3",
   "version": "3.7.4"
  }
 },
 "nbformat": 4,
 "nbformat_minor": 2
}
